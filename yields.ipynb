{
 "cells": [
  {
   "cell_type": "code",
   "execution_count": 1,
   "metadata": {
    "colab": {
     "base_uri": "https://localhost:8080/",
     "height": 1000
    },
    "id": "l97qhEmmrmqr",
    "outputId": "d309de7c-a2f5-4894-f27d-5d73dfd48247"
   },
   "outputs": [
    {
     "name": "stdout",
     "output_type": "stream",
     "text": [
      "A sample set of rows for               Domain      Area Element                Item  Year  \\\n",
      "0     Pesticides Use   Albania     Use  Pesticides (total)  1990   \n",
      "1     Pesticides Use   Albania     Use  Pesticides (total)  1991   \n",
      "2     Pesticides Use   Albania     Use  Pesticides (total)  1992   \n",
      "3     Pesticides Use   Albania     Use  Pesticides (total)  1993   \n",
      "4     Pesticides Use   Albania     Use  Pesticides (total)  1994   \n",
      "...              ...       ...     ...                 ...   ...   \n",
      "4344  Pesticides Use  Zimbabwe     Use  Pesticides (total)  2012   \n",
      "4345  Pesticides Use  Zimbabwe     Use  Pesticides (total)  2013   \n",
      "4346  Pesticides Use  Zimbabwe     Use  Pesticides (total)  2014   \n",
      "4347  Pesticides Use  Zimbabwe     Use  Pesticides (total)  2015   \n",
      "4348  Pesticides Use  Zimbabwe     Use  Pesticides (total)  2016   \n",
      "\n",
      "                              Unit    Value  \n",
      "0     tonnes of active ingredients   121.00  \n",
      "1     tonnes of active ingredients   121.00  \n",
      "2     tonnes of active ingredients   121.00  \n",
      "3     tonnes of active ingredients   121.00  \n",
      "4     tonnes of active ingredients   201.00  \n",
      "...                            ...      ...  \n",
      "4344  tonnes of active ingredients  3375.53  \n",
      "4345  tonnes of active ingredients  2550.07  \n",
      "4346  tonnes of active ingredients  2185.07  \n",
      "4347  tonnes of active ingredients  2185.07  \n",
      "4348  tonnes of active ingredients  2185.07  \n",
      "\n",
      "[4349 rows x 7 columns] is:\n",
      "\n"
     ]
    },
    {
     "data": {
      "text/html": [
       "<div>\n",
       "<style scoped>\n",
       "    .dataframe tbody tr th:only-of-type {\n",
       "        vertical-align: middle;\n",
       "    }\n",
       "\n",
       "    .dataframe tbody tr th {\n",
       "        vertical-align: top;\n",
       "    }\n",
       "\n",
       "    .dataframe thead th {\n",
       "        text-align: right;\n",
       "    }\n",
       "</style>\n",
       "<table border=\"1\" class=\"dataframe\">\n",
       "  <thead>\n",
       "    <tr style=\"text-align: right;\">\n",
       "      <th></th>\n",
       "      <th>Domain</th>\n",
       "      <th>Area</th>\n",
       "      <th>Element</th>\n",
       "      <th>Item</th>\n",
       "      <th>Year</th>\n",
       "      <th>Unit</th>\n",
       "      <th>Value</th>\n",
       "    </tr>\n",
       "  </thead>\n",
       "  <tbody>\n",
       "    <tr>\n",
       "      <th>2411</th>\n",
       "      <td>Pesticides Use</td>\n",
       "      <td>Malawi</td>\n",
       "      <td>Use</td>\n",
       "      <td>Pesticides (total)</td>\n",
       "      <td>2008</td>\n",
       "      <td>tonnes of active ingredients</td>\n",
       "      <td>624.52</td>\n",
       "    </tr>\n",
       "    <tr>\n",
       "      <th>1576</th>\n",
       "      <td>Pesticides Use</td>\n",
       "      <td>Greece</td>\n",
       "      <td>Use</td>\n",
       "      <td>Pesticides (total)</td>\n",
       "      <td>1992</td>\n",
       "      <td>tonnes of active ingredients</td>\n",
       "      <td>7869.00</td>\n",
       "    </tr>\n",
       "    <tr>\n",
       "      <th>2770</th>\n",
       "      <td>Pesticides Use</td>\n",
       "      <td>Netherlands</td>\n",
       "      <td>Use</td>\n",
       "      <td>Pesticides (total)</td>\n",
       "      <td>2005</td>\n",
       "      <td>tonnes of active ingredients</td>\n",
       "      <td>10703.85</td>\n",
       "    </tr>\n",
       "    <tr>\n",
       "      <th>4133</th>\n",
       "      <td>Pesticides Use</td>\n",
       "      <td>United States of America</td>\n",
       "      <td>Use</td>\n",
       "      <td>Pesticides (total)</td>\n",
       "      <td>1994</td>\n",
       "      <td>tonnes of active ingredients</td>\n",
       "      <td>425922.68</td>\n",
       "    </tr>\n",
       "    <tr>\n",
       "      <th>4186</th>\n",
       "      <td>Pesticides Use</td>\n",
       "      <td>Vanuatu</td>\n",
       "      <td>Use</td>\n",
       "      <td>Pesticides (total)</td>\n",
       "      <td>1991</td>\n",
       "      <td>tonnes of active ingredients</td>\n",
       "      <td>222.00</td>\n",
       "    </tr>\n",
       "    <tr>\n",
       "      <th>88</th>\n",
       "      <td>Pesticides Use</td>\n",
       "      <td>Antigua and Barbuda</td>\n",
       "      <td>Use</td>\n",
       "      <td>Pesticides (total)</td>\n",
       "      <td>1997</td>\n",
       "      <td>tonnes of active ingredients</td>\n",
       "      <td>7.52</td>\n",
       "    </tr>\n",
       "    <tr>\n",
       "      <th>2884</th>\n",
       "      <td>Pesticides Use</td>\n",
       "      <td>Niger</td>\n",
       "      <td>Use</td>\n",
       "      <td>Pesticides (total)</td>\n",
       "      <td>2011</td>\n",
       "      <td>tonnes of active ingredients</td>\n",
       "      <td>10.59</td>\n",
       "    </tr>\n",
       "    <tr>\n",
       "      <th>733</th>\n",
       "      <td>Pesticides Use</td>\n",
       "      <td>Canada</td>\n",
       "      <td>Use</td>\n",
       "      <td>Pesticides (total)</td>\n",
       "      <td>2000</td>\n",
       "      <td>tonnes of active ingredients</td>\n",
       "      <td>39667.00</td>\n",
       "    </tr>\n",
       "    <tr>\n",
       "      <th>1387</th>\n",
       "      <td>Pesticides Use</td>\n",
       "      <td>Fiji</td>\n",
       "      <td>Use</td>\n",
       "      <td>Pesticides (total)</td>\n",
       "      <td>1992</td>\n",
       "      <td>tonnes of active ingredients</td>\n",
       "      <td>170.84</td>\n",
       "    </tr>\n",
       "    <tr>\n",
       "      <th>3522</th>\n",
       "      <td>Pesticides Use</td>\n",
       "      <td>Slovenia</td>\n",
       "      <td>Use</td>\n",
       "      <td>Pesticides (total)</td>\n",
       "      <td>1996</td>\n",
       "      <td>tonnes of active ingredients</td>\n",
       "      <td>953.00</td>\n",
       "    </tr>\n",
       "  </tbody>\n",
       "</table>\n",
       "</div>"
      ],
      "text/plain": [
       "              Domain                      Area Element                Item  \\\n",
       "2411  Pesticides Use                    Malawi     Use  Pesticides (total)   \n",
       "1576  Pesticides Use                    Greece     Use  Pesticides (total)   \n",
       "2770  Pesticides Use               Netherlands     Use  Pesticides (total)   \n",
       "4133  Pesticides Use  United States of America     Use  Pesticides (total)   \n",
       "4186  Pesticides Use                   Vanuatu     Use  Pesticides (total)   \n",
       "88    Pesticides Use       Antigua and Barbuda     Use  Pesticides (total)   \n",
       "2884  Pesticides Use                     Niger     Use  Pesticides (total)   \n",
       "733   Pesticides Use                    Canada     Use  Pesticides (total)   \n",
       "1387  Pesticides Use                      Fiji     Use  Pesticides (total)   \n",
       "3522  Pesticides Use                  Slovenia     Use  Pesticides (total)   \n",
       "\n",
       "      Year                          Unit      Value  \n",
       "2411  2008  tonnes of active ingredients     624.52  \n",
       "1576  1992  tonnes of active ingredients    7869.00  \n",
       "2770  2005  tonnes of active ingredients   10703.85  \n",
       "4133  1994  tonnes of active ingredients  425922.68  \n",
       "4186  1991  tonnes of active ingredients     222.00  \n",
       "88    1997  tonnes of active ingredients       7.52  \n",
       "2884  2011  tonnes of active ingredients      10.59  \n",
       "733   2000  tonnes of active ingredients   39667.00  \n",
       "1387  1992  tonnes of active ingredients     170.84  \n",
       "3522  1996  tonnes of active ingredients     953.00  "
      ]
     },
     "metadata": {},
     "output_type": "display_data"
    },
    {
     "name": "stdout",
     "output_type": "stream",
     "text": [
      "A sample set of rows for              Area  Year average_rain_fall_mm_per_year\n",
      "0     Afghanistan  1985                           327\n",
      "1     Afghanistan  1986                           327\n",
      "2     Afghanistan  1987                           327\n",
      "3     Afghanistan  1989                           327\n",
      "4     Afghanistan  1990                           327\n",
      "...           ...   ...                           ...\n",
      "6722     Zimbabwe  2013                           657\n",
      "6723     Zimbabwe  2014                           657\n",
      "6724     Zimbabwe  2015                           657\n",
      "6725     Zimbabwe  2016                           657\n",
      "6726     Zimbabwe  2017                           657\n",
      "\n",
      "[6727 rows x 3 columns] is:\n",
      "\n"
     ]
    },
    {
     "data": {
      "text/html": [
       "<div>\n",
       "<style scoped>\n",
       "    .dataframe tbody tr th:only-of-type {\n",
       "        vertical-align: middle;\n",
       "    }\n",
       "\n",
       "    .dataframe tbody tr th {\n",
       "        vertical-align: top;\n",
       "    }\n",
       "\n",
       "    .dataframe thead th {\n",
       "        text-align: right;\n",
       "    }\n",
       "</style>\n",
       "<table border=\"1\" class=\"dataframe\">\n",
       "  <thead>\n",
       "    <tr style=\"text-align: right;\">\n",
       "      <th></th>\n",
       "      <th>Area</th>\n",
       "      <th>Year</th>\n",
       "      <th>average_rain_fall_mm_per_year</th>\n",
       "    </tr>\n",
       "  </thead>\n",
       "  <tbody>\n",
       "    <tr>\n",
       "      <th>5453</th>\n",
       "      <td>Solomon Islands</td>\n",
       "      <td>2015</td>\n",
       "      <td>3028</td>\n",
       "    </tr>\n",
       "    <tr>\n",
       "      <th>1787</th>\n",
       "      <td>Ecuador</td>\n",
       "      <td>2007</td>\n",
       "      <td>2274</td>\n",
       "    </tr>\n",
       "    <tr>\n",
       "      <th>5917</th>\n",
       "      <td>Tajikistan</td>\n",
       "      <td>2014</td>\n",
       "      <td>691</td>\n",
       "    </tr>\n",
       "    <tr>\n",
       "      <th>1924</th>\n",
       "      <td>Estonia</td>\n",
       "      <td>1987</td>\n",
       "      <td>626</td>\n",
       "    </tr>\n",
       "    <tr>\n",
       "      <th>2581</th>\n",
       "      <td>Guyana</td>\n",
       "      <td>1994</td>\n",
       "      <td>2387</td>\n",
       "    </tr>\n",
       "    <tr>\n",
       "      <th>108</th>\n",
       "      <td>American Samoa</td>\n",
       "      <td>2001</td>\n",
       "      <td>NaN</td>\n",
       "    </tr>\n",
       "    <tr>\n",
       "      <th>5104</th>\n",
       "      <td>San Marino</td>\n",
       "      <td>2007</td>\n",
       "      <td>NaN</td>\n",
       "    </tr>\n",
       "    <tr>\n",
       "      <th>139</th>\n",
       "      <td>Andorra</td>\n",
       "      <td>2001</td>\n",
       "      <td>1010</td>\n",
       "    </tr>\n",
       "    <tr>\n",
       "      <th>945</th>\n",
       "      <td>Burkina Faso</td>\n",
       "      <td>2001</td>\n",
       "      <td>748</td>\n",
       "    </tr>\n",
       "    <tr>\n",
       "      <th>943</th>\n",
       "      <td>Burkina Faso</td>\n",
       "      <td>1999</td>\n",
       "      <td>748</td>\n",
       "    </tr>\n",
       "  </tbody>\n",
       "</table>\n",
       "</div>"
      ],
      "text/plain": [
       "                 Area  Year average_rain_fall_mm_per_year\n",
       "5453  Solomon Islands  2015                          3028\n",
       "1787          Ecuador  2007                          2274\n",
       "5917       Tajikistan  2014                           691\n",
       "1924          Estonia  1987                           626\n",
       "2581           Guyana  1994                          2387\n",
       "108    American Samoa  2001                           NaN\n",
       "5104       San Marino  2007                           NaN\n",
       "139           Andorra  2001                          1010\n",
       "945      Burkina Faso  2001                           748\n",
       "943      Burkina Faso  1999                           748"
      ]
     },
     "metadata": {},
     "output_type": "display_data"
    },
    {
     "name": "stdout",
     "output_type": "stream",
     "text": [
      "A sample set of rows for        year        country  avg_temp\n",
      "0      1849  Côte D'Ivoire     25.58\n",
      "1      1850  Côte D'Ivoire     25.52\n",
      "2      1851  Côte D'Ivoire     25.67\n",
      "3      1852  Côte D'Ivoire       NaN\n",
      "4      1853  Côte D'Ivoire       NaN\n",
      "...     ...            ...       ...\n",
      "71306  2009         Mexico     21.76\n",
      "71307  2010         Mexico     20.90\n",
      "71308  2011         Mexico     21.55\n",
      "71309  2012         Mexico     21.52\n",
      "71310  2013         Mexico     22.19\n",
      "\n",
      "[71311 rows x 3 columns] is:\n",
      "\n"
     ]
    },
    {
     "data": {
      "text/html": [
       "<div>\n",
       "<style scoped>\n",
       "    .dataframe tbody tr th:only-of-type {\n",
       "        vertical-align: middle;\n",
       "    }\n",
       "\n",
       "    .dataframe tbody tr th {\n",
       "        vertical-align: top;\n",
       "    }\n",
       "\n",
       "    .dataframe thead th {\n",
       "        text-align: right;\n",
       "    }\n",
       "</style>\n",
       "<table border=\"1\" class=\"dataframe\">\n",
       "  <thead>\n",
       "    <tr style=\"text-align: right;\">\n",
       "      <th></th>\n",
       "      <th>year</th>\n",
       "      <th>country</th>\n",
       "      <th>avg_temp</th>\n",
       "    </tr>\n",
       "  </thead>\n",
       "  <tbody>\n",
       "    <tr>\n",
       "      <th>62870</th>\n",
       "      <td>1904</td>\n",
       "      <td>Estonia</td>\n",
       "      <td>4.19</td>\n",
       "    </tr>\n",
       "    <tr>\n",
       "      <th>62115</th>\n",
       "      <td>1960</td>\n",
       "      <td>Iran</td>\n",
       "      <td>10.31</td>\n",
       "    </tr>\n",
       "    <tr>\n",
       "      <th>42653</th>\n",
       "      <td>1949</td>\n",
       "      <td>Somalia</td>\n",
       "      <td>27.25</td>\n",
       "    </tr>\n",
       "    <tr>\n",
       "      <th>69527</th>\n",
       "      <td>1946</td>\n",
       "      <td>United States</td>\n",
       "      <td>15.03</td>\n",
       "    </tr>\n",
       "    <tr>\n",
       "      <th>15865</th>\n",
       "      <td>1830</td>\n",
       "      <td>Sri Lanka</td>\n",
       "      <td>25.57</td>\n",
       "    </tr>\n",
       "    <tr>\n",
       "      <th>69773</th>\n",
       "      <td>1862</td>\n",
       "      <td>China</td>\n",
       "      <td>15.46</td>\n",
       "    </tr>\n",
       "    <tr>\n",
       "      <th>56245</th>\n",
       "      <td>1900</td>\n",
       "      <td>Brazil</td>\n",
       "      <td>24.66</td>\n",
       "    </tr>\n",
       "    <tr>\n",
       "      <th>13142</th>\n",
       "      <td>2001</td>\n",
       "      <td>Brazil</td>\n",
       "      <td>20.96</td>\n",
       "    </tr>\n",
       "    <tr>\n",
       "      <th>44533</th>\n",
       "      <td>1891</td>\n",
       "      <td>India</td>\n",
       "      <td>25.32</td>\n",
       "    </tr>\n",
       "    <tr>\n",
       "      <th>38783</th>\n",
       "      <td>1947</td>\n",
       "      <td>Nicaragua</td>\n",
       "      <td>26.94</td>\n",
       "    </tr>\n",
       "  </tbody>\n",
       "</table>\n",
       "</div>"
      ],
      "text/plain": [
       "       year        country  avg_temp\n",
       "62870  1904        Estonia      4.19\n",
       "62115  1960           Iran     10.31\n",
       "42653  1949        Somalia     27.25\n",
       "69527  1946  United States     15.03\n",
       "15865  1830      Sri Lanka     25.57\n",
       "69773  1862          China     15.46\n",
       "56245  1900         Brazil     24.66\n",
       "13142  2001         Brazil     20.96\n",
       "44533  1891          India     25.32\n",
       "38783  1947      Nicaragua     26.94"
      ]
     },
     "metadata": {},
     "output_type": "display_data"
    },
    {
     "name": "stdout",
     "output_type": "stream",
     "text": [
      "A sample set of rows for       Domain Code Domain  Area Code         Area  Element Code Element  \\\n",
      "0              QC  Crops          2  Afghanistan          5419   Yield   \n",
      "1              QC  Crops          2  Afghanistan          5419   Yield   \n",
      "2              QC  Crops          2  Afghanistan          5419   Yield   \n",
      "3              QC  Crops          2  Afghanistan          5419   Yield   \n",
      "4              QC  Crops          2  Afghanistan          5419   Yield   \n",
      "...           ...    ...        ...          ...           ...     ...   \n",
      "56712          QC  Crops        181     Zimbabwe          5419   Yield   \n",
      "56713          QC  Crops        181     Zimbabwe          5419   Yield   \n",
      "56714          QC  Crops        181     Zimbabwe          5419   Yield   \n",
      "56715          QC  Crops        181     Zimbabwe          5419   Yield   \n",
      "56716          QC  Crops        181     Zimbabwe          5419   Yield   \n",
      "\n",
      "       Item Code   Item  Year Code  Year   Unit  Value  \n",
      "0             56  Maize       1961  1961  hg/ha  14000  \n",
      "1             56  Maize       1962  1962  hg/ha  14000  \n",
      "2             56  Maize       1963  1963  hg/ha  14260  \n",
      "3             56  Maize       1964  1964  hg/ha  14257  \n",
      "4             56  Maize       1965  1965  hg/ha  14400  \n",
      "...          ...    ...        ...   ...    ...    ...  \n",
      "56712         15  Wheat       2012  2012  hg/ha  24420  \n",
      "56713         15  Wheat       2013  2013  hg/ha  22888  \n",
      "56714         15  Wheat       2014  2014  hg/ha  21357  \n",
      "56715         15  Wheat       2015  2015  hg/ha  19826  \n",
      "56716         15  Wheat       2016  2016  hg/ha  18294  \n",
      "\n",
      "[56717 rows x 12 columns] is:\n",
      "\n"
     ]
    },
    {
     "data": {
      "text/html": [
       "<div>\n",
       "<style scoped>\n",
       "    .dataframe tbody tr th:only-of-type {\n",
       "        vertical-align: middle;\n",
       "    }\n",
       "\n",
       "    .dataframe tbody tr th {\n",
       "        vertical-align: top;\n",
       "    }\n",
       "\n",
       "    .dataframe thead th {\n",
       "        text-align: right;\n",
       "    }\n",
       "</style>\n",
       "<table border=\"1\" class=\"dataframe\">\n",
       "  <thead>\n",
       "    <tr style=\"text-align: right;\">\n",
       "      <th></th>\n",
       "      <th>Domain Code</th>\n",
       "      <th>Domain</th>\n",
       "      <th>Area Code</th>\n",
       "      <th>Area</th>\n",
       "      <th>Element Code</th>\n",
       "      <th>Element</th>\n",
       "      <th>Item Code</th>\n",
       "      <th>Item</th>\n",
       "      <th>Year Code</th>\n",
       "      <th>Year</th>\n",
       "      <th>Unit</th>\n",
       "      <th>Value</th>\n",
       "    </tr>\n",
       "  </thead>\n",
       "  <tbody>\n",
       "    <tr>\n",
       "      <th>37911</th>\n",
       "      <td>QC</td>\n",
       "      <td>Crops</td>\n",
       "      <td>299</td>\n",
       "      <td>Occupied Palestinian Territory</td>\n",
       "      <td>5419</td>\n",
       "      <td>Yield</td>\n",
       "      <td>15</td>\n",
       "      <td>Wheat</td>\n",
       "      <td>2005</td>\n",
       "      <td>2005</td>\n",
       "      <td>hg/ha</td>\n",
       "      <td>20898</td>\n",
       "    </tr>\n",
       "    <tr>\n",
       "      <th>50349</th>\n",
       "      <td>QC</td>\n",
       "      <td>Crops</td>\n",
       "      <td>176</td>\n",
       "      <td>Timor-Leste</td>\n",
       "      <td>5419</td>\n",
       "      <td>Yield</td>\n",
       "      <td>122</td>\n",
       "      <td>Sweet potatoes</td>\n",
       "      <td>1990</td>\n",
       "      <td>1990</td>\n",
       "      <td>hg/ha</td>\n",
       "      <td>35727</td>\n",
       "    </tr>\n",
       "    <tr>\n",
       "      <th>55956</th>\n",
       "      <td>QC</td>\n",
       "      <td>Crops</td>\n",
       "      <td>251</td>\n",
       "      <td>Zambia</td>\n",
       "      <td>5419</td>\n",
       "      <td>Yield</td>\n",
       "      <td>116</td>\n",
       "      <td>Potatoes</td>\n",
       "      <td>1965</td>\n",
       "      <td>1965</td>\n",
       "      <td>hg/ha</td>\n",
       "      <td>98063</td>\n",
       "    </tr>\n",
       "    <tr>\n",
       "      <th>52766</th>\n",
       "      <td>QC</td>\n",
       "      <td>Crops</td>\n",
       "      <td>215</td>\n",
       "      <td>United Republic of Tanzania</td>\n",
       "      <td>5419</td>\n",
       "      <td>Yield</td>\n",
       "      <td>56</td>\n",
       "      <td>Maize</td>\n",
       "      <td>1962</td>\n",
       "      <td>1962</td>\n",
       "      <td>hg/ha</td>\n",
       "      <td>7500</td>\n",
       "    </tr>\n",
       "    <tr>\n",
       "      <th>23830</th>\n",
       "      <td>QC</td>\n",
       "      <td>Crops</td>\n",
       "      <td>95</td>\n",
       "      <td>Honduras</td>\n",
       "      <td>5419</td>\n",
       "      <td>Yield</td>\n",
       "      <td>116</td>\n",
       "      <td>Potatoes</td>\n",
       "      <td>1995</td>\n",
       "      <td>1995</td>\n",
       "      <td>hg/ha</td>\n",
       "      <td>108075</td>\n",
       "    </tr>\n",
       "    <tr>\n",
       "      <th>27977</th>\n",
       "      <td>QC</td>\n",
       "      <td>Crops</td>\n",
       "      <td>114</td>\n",
       "      <td>Kenya</td>\n",
       "      <td>5419</td>\n",
       "      <td>Yield</td>\n",
       "      <td>489</td>\n",
       "      <td>Plantains and others</td>\n",
       "      <td>2011</td>\n",
       "      <td>2011</td>\n",
       "      <td>hg/ha</td>\n",
       "      <td>124000</td>\n",
       "    </tr>\n",
       "    <tr>\n",
       "      <th>16348</th>\n",
       "      <td>QC</td>\n",
       "      <td>Crops</td>\n",
       "      <td>56</td>\n",
       "      <td>Dominican Republic</td>\n",
       "      <td>5419</td>\n",
       "      <td>Yield</td>\n",
       "      <td>137</td>\n",
       "      <td>Yams</td>\n",
       "      <td>1994</td>\n",
       "      <td>1994</td>\n",
       "      <td>hg/ha</td>\n",
       "      <td>48632</td>\n",
       "    </tr>\n",
       "    <tr>\n",
       "      <th>38362</th>\n",
       "      <td>QC</td>\n",
       "      <td>Crops</td>\n",
       "      <td>165</td>\n",
       "      <td>Pakistan</td>\n",
       "      <td>5419</td>\n",
       "      <td>Yield</td>\n",
       "      <td>27</td>\n",
       "      <td>Rice, paddy</td>\n",
       "      <td>1963</td>\n",
       "      <td>1963</td>\n",
       "      <td>hg/ha</td>\n",
       "      <td>13902</td>\n",
       "    </tr>\n",
       "    <tr>\n",
       "      <th>14127</th>\n",
       "      <td>QC</td>\n",
       "      <td>Crops</td>\n",
       "      <td>49</td>\n",
       "      <td>Cuba</td>\n",
       "      <td>5419</td>\n",
       "      <td>Yield</td>\n",
       "      <td>122</td>\n",
       "      <td>Sweet potatoes</td>\n",
       "      <td>2016</td>\n",
       "      <td>2016</td>\n",
       "      <td>hg/ha</td>\n",
       "      <td>109034</td>\n",
       "    </tr>\n",
       "    <tr>\n",
       "      <th>26546</th>\n",
       "      <td>QC</td>\n",
       "      <td>Crops</td>\n",
       "      <td>106</td>\n",
       "      <td>Italy</td>\n",
       "      <td>5419</td>\n",
       "      <td>Yield</td>\n",
       "      <td>236</td>\n",
       "      <td>Soybeans</td>\n",
       "      <td>2016</td>\n",
       "      <td>2016</td>\n",
       "      <td>hg/ha</td>\n",
       "      <td>37539</td>\n",
       "    </tr>\n",
       "  </tbody>\n",
       "</table>\n",
       "</div>"
      ],
      "text/plain": [
       "      Domain Code Domain  Area Code                            Area  \\\n",
       "37911          QC  Crops        299  Occupied Palestinian Territory   \n",
       "50349          QC  Crops        176                     Timor-Leste   \n",
       "55956          QC  Crops        251                          Zambia   \n",
       "52766          QC  Crops        215     United Republic of Tanzania   \n",
       "23830          QC  Crops         95                        Honduras   \n",
       "27977          QC  Crops        114                           Kenya   \n",
       "16348          QC  Crops         56              Dominican Republic   \n",
       "38362          QC  Crops        165                        Pakistan   \n",
       "14127          QC  Crops         49                            Cuba   \n",
       "26546          QC  Crops        106                           Italy   \n",
       "\n",
       "       Element Code Element  Item Code                  Item  Year Code  Year  \\\n",
       "37911          5419   Yield         15                 Wheat       2005  2005   \n",
       "50349          5419   Yield        122        Sweet potatoes       1990  1990   \n",
       "55956          5419   Yield        116              Potatoes       1965  1965   \n",
       "52766          5419   Yield         56                 Maize       1962  1962   \n",
       "23830          5419   Yield        116              Potatoes       1995  1995   \n",
       "27977          5419   Yield        489  Plantains and others       2011  2011   \n",
       "16348          5419   Yield        137                  Yams       1994  1994   \n",
       "38362          5419   Yield         27           Rice, paddy       1963  1963   \n",
       "14127          5419   Yield        122        Sweet potatoes       2016  2016   \n",
       "26546          5419   Yield        236              Soybeans       2016  2016   \n",
       "\n",
       "        Unit   Value  \n",
       "37911  hg/ha   20898  \n",
       "50349  hg/ha   35727  \n",
       "55956  hg/ha   98063  \n",
       "52766  hg/ha    7500  \n",
       "23830  hg/ha  108075  \n",
       "27977  hg/ha  124000  \n",
       "16348  hg/ha   48632  \n",
       "38362  hg/ha   13902  \n",
       "14127  hg/ha  109034  \n",
       "26546  hg/ha   37539  "
      ]
     },
     "metadata": {},
     "output_type": "display_data"
    }
   ],
   "source": [
    "import pandas as pd\n",
    "import numpy as np\n",
    "import matplotlib.pyplot as plt\n",
    "import seaborn as sns\n",
    "pest_df=pd.read_csv('pesticides.csv')\n",
    "rain_df=pd.read_csv('rainfall.csv')\n",
    "temp_df=pd.read_csv('temp.csv')\n",
    "yield_df=pd.read_csv('yield.csv')\n",
    "data_frames=[pest_df,rain_df,temp_df,yield_df]\n",
    "for df in data_frames:\n",
    "    print('A sample set of rows for {} is:\\n'.format(df))\n",
    "    display(df.sample(10))"
   ]
  },
  {
   "cell_type": "code",
   "execution_count": 2,
   "metadata": {
    "colab": {
     "base_uri": "https://localhost:8080/",
     "height": 206
    },
    "id": "kWhGJrPttuh7",
    "outputId": "b4ede46b-e867-49e9-d7e6-43e8df41f9d9"
   },
   "outputs": [
    {
     "data": {
      "text/html": [
       "<div>\n",
       "<style scoped>\n",
       "    .dataframe tbody tr th:only-of-type {\n",
       "        vertical-align: middle;\n",
       "    }\n",
       "\n",
       "    .dataframe tbody tr th {\n",
       "        vertical-align: top;\n",
       "    }\n",
       "\n",
       "    .dataframe thead th {\n",
       "        text-align: right;\n",
       "    }\n",
       "</style>\n",
       "<table border=\"1\" class=\"dataframe\">\n",
       "  <thead>\n",
       "    <tr style=\"text-align: right;\">\n",
       "      <th></th>\n",
       "      <th>Area</th>\n",
       "      <th>Year</th>\n",
       "      <th>Value</th>\n",
       "    </tr>\n",
       "  </thead>\n",
       "  <tbody>\n",
       "    <tr>\n",
       "      <th>0</th>\n",
       "      <td>Albania</td>\n",
       "      <td>1990</td>\n",
       "      <td>121.0</td>\n",
       "    </tr>\n",
       "    <tr>\n",
       "      <th>1</th>\n",
       "      <td>Albania</td>\n",
       "      <td>1991</td>\n",
       "      <td>121.0</td>\n",
       "    </tr>\n",
       "    <tr>\n",
       "      <th>2</th>\n",
       "      <td>Albania</td>\n",
       "      <td>1992</td>\n",
       "      <td>121.0</td>\n",
       "    </tr>\n",
       "    <tr>\n",
       "      <th>3</th>\n",
       "      <td>Albania</td>\n",
       "      <td>1993</td>\n",
       "      <td>121.0</td>\n",
       "    </tr>\n",
       "    <tr>\n",
       "      <th>4</th>\n",
       "      <td>Albania</td>\n",
       "      <td>1994</td>\n",
       "      <td>201.0</td>\n",
       "    </tr>\n",
       "  </tbody>\n",
       "</table>\n",
       "</div>"
      ],
      "text/plain": [
       "      Area  Year  Value\n",
       "0  Albania  1990  121.0\n",
       "1  Albania  1991  121.0\n",
       "2  Albania  1992  121.0\n",
       "3  Albania  1993  121.0\n",
       "4  Albania  1994  201.0"
      ]
     },
     "execution_count": 2,
     "metadata": {},
     "output_type": "execute_result"
    }
   ],
   "source": [
    "pest_df=pest_df.drop(['Unit','Domain','Element','Item'],axis=1)\n",
    "yield_df=yield_df.drop(['Domain Code','Domain','Area Code','Element Code','Item Code','Year Code','Unit'],axis=1)\n",
    "pest_df.head()"
   ]
  },
  {
   "cell_type": "code",
   "execution_count": 3,
   "metadata": {
    "colab": {
     "base_uri": "https://localhost:8080/"
    },
    "id": "ylmiuEjluHuO",
    "outputId": "f3d6761b-942d-4b02-8c99-dae310a4fb2a"
   },
   "outputs": [
    {
     "name": "stdout",
     "output_type": "stream",
     "text": [
      "<class 'pandas.core.frame.DataFrame'>\n",
      "RangeIndex: 56717 entries, 0 to 56716\n",
      "Data columns (total 5 columns):\n",
      " #   Column   Non-Null Count  Dtype \n",
      "---  ------   --------------  ----- \n",
      " 0   Area     56717 non-null  object\n",
      " 1   Element  56717 non-null  object\n",
      " 2   Item     56717 non-null  object\n",
      " 3   Year     56717 non-null  int64 \n",
      " 4   Value    56717 non-null  int64 \n",
      "dtypes: int64(2), object(3)\n",
      "memory usage: 2.2+ MB\n"
     ]
    }
   ],
   "source": [
    "yield_df.info()"
   ]
  },
  {
   "cell_type": "code",
   "execution_count": 4,
   "metadata": {
    "colab": {
     "base_uri": "https://localhost:8080/",
     "height": 206
    },
    "id": "t5f8PXc4uSHR",
    "outputId": "3aabb9f3-4e49-4d35-a271-142a71a62745"
   },
   "outputs": [
    {
     "data": {
      "text/html": [
       "<div>\n",
       "<style scoped>\n",
       "    .dataframe tbody tr th:only-of-type {\n",
       "        vertical-align: middle;\n",
       "    }\n",
       "\n",
       "    .dataframe tbody tr th {\n",
       "        vertical-align: top;\n",
       "    }\n",
       "\n",
       "    .dataframe thead th {\n",
       "        text-align: right;\n",
       "    }\n",
       "</style>\n",
       "<table border=\"1\" class=\"dataframe\">\n",
       "  <thead>\n",
       "    <tr style=\"text-align: right;\">\n",
       "      <th></th>\n",
       "      <th>Area</th>\n",
       "      <th>Element</th>\n",
       "      <th>Item</th>\n",
       "      <th>Year</th>\n",
       "      <th>Value</th>\n",
       "    </tr>\n",
       "  </thead>\n",
       "  <tbody>\n",
       "    <tr>\n",
       "      <th>0</th>\n",
       "      <td>Afghanistan</td>\n",
       "      <td>Yield</td>\n",
       "      <td>Maize</td>\n",
       "      <td>1961</td>\n",
       "      <td>14000</td>\n",
       "    </tr>\n",
       "    <tr>\n",
       "      <th>1</th>\n",
       "      <td>Afghanistan</td>\n",
       "      <td>Yield</td>\n",
       "      <td>Maize</td>\n",
       "      <td>1962</td>\n",
       "      <td>14000</td>\n",
       "    </tr>\n",
       "    <tr>\n",
       "      <th>2</th>\n",
       "      <td>Afghanistan</td>\n",
       "      <td>Yield</td>\n",
       "      <td>Maize</td>\n",
       "      <td>1963</td>\n",
       "      <td>14260</td>\n",
       "    </tr>\n",
       "    <tr>\n",
       "      <th>3</th>\n",
       "      <td>Afghanistan</td>\n",
       "      <td>Yield</td>\n",
       "      <td>Maize</td>\n",
       "      <td>1964</td>\n",
       "      <td>14257</td>\n",
       "    </tr>\n",
       "    <tr>\n",
       "      <th>4</th>\n",
       "      <td>Afghanistan</td>\n",
       "      <td>Yield</td>\n",
       "      <td>Maize</td>\n",
       "      <td>1965</td>\n",
       "      <td>14400</td>\n",
       "    </tr>\n",
       "  </tbody>\n",
       "</table>\n",
       "</div>"
      ],
      "text/plain": [
       "          Area Element   Item  Year  Value\n",
       "0  Afghanistan   Yield  Maize  1961  14000\n",
       "1  Afghanistan   Yield  Maize  1962  14000\n",
       "2  Afghanistan   Yield  Maize  1963  14260\n",
       "3  Afghanistan   Yield  Maize  1964  14257\n",
       "4  Afghanistan   Yield  Maize  1965  14400"
      ]
     },
     "execution_count": 4,
     "metadata": {},
     "output_type": "execute_result"
    }
   ],
   "source": [
    "yield_df.head()"
   ]
  },
  {
   "cell_type": "code",
   "execution_count": 5,
   "metadata": {
    "colab": {
     "base_uri": "https://localhost:8080/"
    },
    "id": "bRWnMt2wudSS",
    "outputId": "58cf429b-c2fe-48cd-ee14-05fb2e8f9442"
   },
   "outputs": [
    {
     "data": {
      "text/plain": [
       "Index(['Area', 'Element', 'Item', 'Year', 'Value'], dtype='object')"
      ]
     },
     "execution_count": 5,
     "metadata": {},
     "output_type": "execute_result"
    }
   ],
   "source": [
    "yield_df.columns"
   ]
  },
  {
   "cell_type": "code",
   "execution_count": 6,
   "metadata": {
    "colab": {
     "base_uri": "https://localhost:8080/"
    },
    "id": "ynSKKVPUuiKO",
    "outputId": "0d3faf58-5b47-4225-e36b-53048cbc086f"
   },
   "outputs": [
    {
     "name": "stdout",
     "output_type": "stream",
     "text": [
      "Index(['Domain', 'Area', 'Element', 'Item', 'Year', 'Unit', 'Value'], dtype='object')\n",
      "Index(['Area', 'Year', 'average_rain_fall_mm_per_year'], dtype='object')\n",
      "Index(['year', 'country', 'avg_temp'], dtype='object')\n",
      "Index(['Domain Code', 'Domain', 'Area Code', 'Area', 'Element Code', 'Element',\n",
      "       'Item Code', 'Item', 'Year Code', 'Year', 'Unit', 'Value'],\n",
      "      dtype='object')\n"
     ]
    }
   ],
   "source": [
    "rain_df.rename(columns = {' Area':'Area'},inplace = True)\n",
    "for df in data_frames:\n",
    "    print(df.columns)"
   ]
  },
  {
   "cell_type": "code",
   "execution_count": 7,
   "metadata": {
    "colab": {
     "base_uri": "https://localhost:8080/",
     "height": 206
    },
    "id": "1xgnHXwSu2hc",
    "outputId": "a9108af9-b051-4bae-b2fd-08fe4d5ad8f9"
   },
   "outputs": [
    {
     "data": {
      "text/html": [
       "<div>\n",
       "<style scoped>\n",
       "    .dataframe tbody tr th:only-of-type {\n",
       "        vertical-align: middle;\n",
       "    }\n",
       "\n",
       "    .dataframe tbody tr th {\n",
       "        vertical-align: top;\n",
       "    }\n",
       "\n",
       "    .dataframe thead th {\n",
       "        text-align: right;\n",
       "    }\n",
       "</style>\n",
       "<table border=\"1\" class=\"dataframe\">\n",
       "  <thead>\n",
       "    <tr style=\"text-align: right;\">\n",
       "      <th></th>\n",
       "      <th>Area</th>\n",
       "      <th>Element</th>\n",
       "      <th>Item</th>\n",
       "      <th>Year</th>\n",
       "      <th>Value</th>\n",
       "    </tr>\n",
       "  </thead>\n",
       "  <tbody>\n",
       "    <tr>\n",
       "      <th>0</th>\n",
       "      <td>Afghanistan</td>\n",
       "      <td>Yield</td>\n",
       "      <td>Maize</td>\n",
       "      <td>1961</td>\n",
       "      <td>14000</td>\n",
       "    </tr>\n",
       "    <tr>\n",
       "      <th>1</th>\n",
       "      <td>Afghanistan</td>\n",
       "      <td>Yield</td>\n",
       "      <td>Maize</td>\n",
       "      <td>1962</td>\n",
       "      <td>14000</td>\n",
       "    </tr>\n",
       "    <tr>\n",
       "      <th>2</th>\n",
       "      <td>Afghanistan</td>\n",
       "      <td>Yield</td>\n",
       "      <td>Maize</td>\n",
       "      <td>1963</td>\n",
       "      <td>14260</td>\n",
       "    </tr>\n",
       "    <tr>\n",
       "      <th>3</th>\n",
       "      <td>Afghanistan</td>\n",
       "      <td>Yield</td>\n",
       "      <td>Maize</td>\n",
       "      <td>1964</td>\n",
       "      <td>14257</td>\n",
       "    </tr>\n",
       "    <tr>\n",
       "      <th>4</th>\n",
       "      <td>Afghanistan</td>\n",
       "      <td>Yield</td>\n",
       "      <td>Maize</td>\n",
       "      <td>1965</td>\n",
       "      <td>14400</td>\n",
       "    </tr>\n",
       "  </tbody>\n",
       "</table>\n",
       "</div>"
      ],
      "text/plain": [
       "          Area Element   Item  Year  Value\n",
       "0  Afghanistan   Yield  Maize  1961  14000\n",
       "1  Afghanistan   Yield  Maize  1962  14000\n",
       "2  Afghanistan   Yield  Maize  1963  14260\n",
       "3  Afghanistan   Yield  Maize  1964  14257\n",
       "4  Afghanistan   Yield  Maize  1965  14400"
      ]
     },
     "execution_count": 7,
     "metadata": {},
     "output_type": "execute_result"
    }
   ],
   "source": [
    "yield_df.head()"
   ]
  },
  {
   "cell_type": "code",
   "execution_count": 8,
   "metadata": {
    "colab": {
     "base_uri": "https://localhost:8080/"
    },
    "id": "Pe_1btnDveaf",
    "outputId": "db0d41ba-d6c3-4f69-bcee-7ee2a51d4dab"
   },
   "outputs": [
    {
     "data": {
      "text/plain": [
       "Index(['Year', 'Area', 'avg_temp'], dtype='object')"
      ]
     },
     "execution_count": 8,
     "metadata": {},
     "output_type": "execute_result"
    }
   ],
   "source": [
    "temp_df.rename(columns = {'year':'Year','country':'Area'},inplace = True)\n",
    "temp_df.columns"
   ]
  },
  {
   "cell_type": "code",
   "execution_count": 9,
   "metadata": {
    "colab": {
     "base_uri": "https://localhost:8080/",
     "height": 572
    },
    "id": "7125JgbIvtIj",
    "outputId": "23858987-fdf9-4e2e-e23e-7d473e3b0e07"
   },
   "outputs": [
    {
     "name": "stdout",
     "output_type": "stream",
     "text": [
      "Index(['Area', 'Element', 'Item', 'Year', 'Value_x', 'Value_y',\n",
      "       'average_rain_fall_mm_per_year', 'avg_temp'],\n",
      "      dtype='object')\n"
     ]
    },
    {
     "data": {
      "text/html": [
       "<div>\n",
       "<style scoped>\n",
       "    .dataframe tbody tr th:only-of-type {\n",
       "        vertical-align: middle;\n",
       "    }\n",
       "\n",
       "    .dataframe tbody tr th {\n",
       "        vertical-align: top;\n",
       "    }\n",
       "\n",
       "    .dataframe thead th {\n",
       "        text-align: right;\n",
       "    }\n",
       "</style>\n",
       "<table border=\"1\" class=\"dataframe\">\n",
       "  <thead>\n",
       "    <tr style=\"text-align: right;\">\n",
       "      <th></th>\n",
       "      <th>Area</th>\n",
       "      <th>Element</th>\n",
       "      <th>Item</th>\n",
       "      <th>Year</th>\n",
       "      <th>Value_x</th>\n",
       "      <th>Value_y</th>\n",
       "      <th>average_rain_fall_mm_per_year</th>\n",
       "      <th>avg_temp</th>\n",
       "    </tr>\n",
       "  </thead>\n",
       "  <tbody>\n",
       "    <tr>\n",
       "      <th>21183</th>\n",
       "      <td>Netherlands</td>\n",
       "      <td>Yield</td>\n",
       "      <td>Wheat</td>\n",
       "      <td>1998</td>\n",
       "      <td>76956</td>\n",
       "      <td>11762.00</td>\n",
       "      <td>778</td>\n",
       "      <td>10.18</td>\n",
       "    </tr>\n",
       "    <tr>\n",
       "      <th>27954</th>\n",
       "      <td>Zambia</td>\n",
       "      <td>Yield</td>\n",
       "      <td>Potatoes</td>\n",
       "      <td>1999</td>\n",
       "      <td>90909</td>\n",
       "      <td>1670.00</td>\n",
       "      <td>1020</td>\n",
       "      <td>20.53</td>\n",
       "    </tr>\n",
       "    <tr>\n",
       "      <th>9880</th>\n",
       "      <td>Guyana</td>\n",
       "      <td>Yield</td>\n",
       "      <td>Plantains and others</td>\n",
       "      <td>1995</td>\n",
       "      <td>34194</td>\n",
       "      <td>289.90</td>\n",
       "      <td>2387</td>\n",
       "      <td>27.57</td>\n",
       "    </tr>\n",
       "    <tr>\n",
       "      <th>11193</th>\n",
       "      <td>India</td>\n",
       "      <td>Yield</td>\n",
       "      <td>Wheat</td>\n",
       "      <td>1993</td>\n",
       "      <td>23267</td>\n",
       "      <td>66388.00</td>\n",
       "      <td>1083</td>\n",
       "      <td>24.34</td>\n",
       "    </tr>\n",
       "    <tr>\n",
       "      <th>1717</th>\n",
       "      <td>Australia</td>\n",
       "      <td>Yield</td>\n",
       "      <td>Soybeans</td>\n",
       "      <td>2012</td>\n",
       "      <td>22598</td>\n",
       "      <td>48687.88</td>\n",
       "      <td>534</td>\n",
       "      <td>14.27</td>\n",
       "    </tr>\n",
       "    <tr>\n",
       "      <th>1075</th>\n",
       "      <td>Australia</td>\n",
       "      <td>Yield</td>\n",
       "      <td>Rice, paddy</td>\n",
       "      <td>1996</td>\n",
       "      <td>63540</td>\n",
       "      <td>31185.00</td>\n",
       "      <td>534</td>\n",
       "      <td>13.05</td>\n",
       "    </tr>\n",
       "    <tr>\n",
       "      <th>9545</th>\n",
       "      <td>Guatemala</td>\n",
       "      <td>Yield</td>\n",
       "      <td>Plantains and others</td>\n",
       "      <td>1997</td>\n",
       "      <td>381003</td>\n",
       "      <td>11419.53</td>\n",
       "      <td>1996</td>\n",
       "      <td>20.16</td>\n",
       "    </tr>\n",
       "    <tr>\n",
       "      <th>19586</th>\n",
       "      <td>Mexico</td>\n",
       "      <td>Yield</td>\n",
       "      <td>Rice, paddy</td>\n",
       "      <td>1999</td>\n",
       "      <td>47762</td>\n",
       "      <td>34468.93</td>\n",
       "      <td>758</td>\n",
       "      <td>19.27</td>\n",
       "    </tr>\n",
       "    <tr>\n",
       "      <th>1537</th>\n",
       "      <td>Australia</td>\n",
       "      <td>Yield</td>\n",
       "      <td>Rice, paddy</td>\n",
       "      <td>2008</td>\n",
       "      <td>75988</td>\n",
       "      <td>42935.38</td>\n",
       "      <td>534</td>\n",
       "      <td>14.11</td>\n",
       "    </tr>\n",
       "    <tr>\n",
       "      <th>16056</th>\n",
       "      <td>Jamaica</td>\n",
       "      <td>Yield</td>\n",
       "      <td>Cassava</td>\n",
       "      <td>1994</td>\n",
       "      <td>195385</td>\n",
       "      <td>1415.65</td>\n",
       "      <td>2051</td>\n",
       "      <td>27.48</td>\n",
       "    </tr>\n",
       "    <tr>\n",
       "      <th>26817</th>\n",
       "      <td>Turkey</td>\n",
       "      <td>Yield</td>\n",
       "      <td>Rice, paddy</td>\n",
       "      <td>2001</td>\n",
       "      <td>61017</td>\n",
       "      <td>25539.00</td>\n",
       "      <td>593</td>\n",
       "      <td>12.32</td>\n",
       "    </tr>\n",
       "    <tr>\n",
       "      <th>14778</th>\n",
       "      <td>Indonesia</td>\n",
       "      <td>Yield</td>\n",
       "      <td>Maize</td>\n",
       "      <td>1996</td>\n",
       "      <td>24862</td>\n",
       "      <td>1597.00</td>\n",
       "      <td>2702</td>\n",
       "      <td>25.41</td>\n",
       "    </tr>\n",
       "    <tr>\n",
       "      <th>3620</th>\n",
       "      <td>Brazil</td>\n",
       "      <td>Yield</td>\n",
       "      <td>Wheat</td>\n",
       "      <td>2000</td>\n",
       "      <td>15156</td>\n",
       "      <td>140423.00</td>\n",
       "      <td>1761</td>\n",
       "      <td>20.32</td>\n",
       "    </tr>\n",
       "    <tr>\n",
       "      <th>19136</th>\n",
       "      <td>Mexico</td>\n",
       "      <td>Yield</td>\n",
       "      <td>Rice, paddy</td>\n",
       "      <td>1992</td>\n",
       "      <td>43577</td>\n",
       "      <td>34468.93</td>\n",
       "      <td>758</td>\n",
       "      <td>19.97</td>\n",
       "    </tr>\n",
       "    <tr>\n",
       "      <th>16777</th>\n",
       "      <td>Japan</td>\n",
       "      <td>Yield</td>\n",
       "      <td>Maize</td>\n",
       "      <td>2005</td>\n",
       "      <td>25260</td>\n",
       "      <td>63829.77</td>\n",
       "      <td>1668</td>\n",
       "      <td>15.75</td>\n",
       "    </tr>\n",
       "  </tbody>\n",
       "</table>\n",
       "</div>"
      ],
      "text/plain": [
       "              Area Element                  Item  Year  Value_x    Value_y  \\\n",
       "21183  Netherlands   Yield                 Wheat  1998    76956   11762.00   \n",
       "27954       Zambia   Yield              Potatoes  1999    90909    1670.00   \n",
       "9880        Guyana   Yield  Plantains and others  1995    34194     289.90   \n",
       "11193        India   Yield                 Wheat  1993    23267   66388.00   \n",
       "1717     Australia   Yield              Soybeans  2012    22598   48687.88   \n",
       "1075     Australia   Yield           Rice, paddy  1996    63540   31185.00   \n",
       "9545     Guatemala   Yield  Plantains and others  1997   381003   11419.53   \n",
       "19586       Mexico   Yield           Rice, paddy  1999    47762   34468.93   \n",
       "1537     Australia   Yield           Rice, paddy  2008    75988   42935.38   \n",
       "16056      Jamaica   Yield               Cassava  1994   195385    1415.65   \n",
       "26817       Turkey   Yield           Rice, paddy  2001    61017   25539.00   \n",
       "14778    Indonesia   Yield                 Maize  1996    24862    1597.00   \n",
       "3620        Brazil   Yield                 Wheat  2000    15156  140423.00   \n",
       "19136       Mexico   Yield           Rice, paddy  1992    43577   34468.93   \n",
       "16777        Japan   Yield                 Maize  2005    25260   63829.77   \n",
       "\n",
       "      average_rain_fall_mm_per_year  avg_temp  \n",
       "21183                           778     10.18  \n",
       "27954                          1020     20.53  \n",
       "9880                           2387     27.57  \n",
       "11193                          1083     24.34  \n",
       "1717                            534     14.27  \n",
       "1075                            534     13.05  \n",
       "9545                           1996     20.16  \n",
       "19586                           758     19.27  \n",
       "1537                            534     14.11  \n",
       "16056                          2051     27.48  \n",
       "26817                           593     12.32  \n",
       "14778                          2702     25.41  \n",
       "3620                           1761     20.32  \n",
       "19136                           758     19.97  \n",
       "16777                          1668     15.75  "
      ]
     },
     "execution_count": 9,
     "metadata": {},
     "output_type": "execute_result"
    }
   ],
   "source": [
    "yield_df_df=pd.read_csv('yield_df.csv')\n",
    "pr=pd.merge(pest_df,rain_df,on=['Year','Area'])\n",
    "prt=pd.merge(pr,temp_df,on=['Year','Area'])\n",
    "prty=pd.merge(yield_df,prt,on=['Year','Area'])\n",
    "print(prty.columns)\n",
    "prty.sample(15)"
   ]
  },
  {
   "cell_type": "code",
   "execution_count": 10,
   "metadata": {
    "colab": {
     "base_uri": "https://localhost:8080/",
     "height": 300
    },
    "id": "DqDJr9ukyGCj",
    "outputId": "f8d56c1a-ff25-4e45-9809-15ee49045018"
   },
   "outputs": [
    {
     "data": {
      "text/html": [
       "<div>\n",
       "<style scoped>\n",
       "    .dataframe tbody tr th:only-of-type {\n",
       "        vertical-align: middle;\n",
       "    }\n",
       "\n",
       "    .dataframe tbody tr th {\n",
       "        vertical-align: top;\n",
       "    }\n",
       "\n",
       "    .dataframe thead th {\n",
       "        text-align: right;\n",
       "    }\n",
       "</style>\n",
       "<table border=\"1\" class=\"dataframe\">\n",
       "  <thead>\n",
       "    <tr style=\"text-align: right;\">\n",
       "      <th></th>\n",
       "      <th>Year</th>\n",
       "      <th>Value_x</th>\n",
       "      <th>Value_y</th>\n",
       "      <th>avg_temp</th>\n",
       "    </tr>\n",
       "  </thead>\n",
       "  <tbody>\n",
       "    <tr>\n",
       "      <th>count</th>\n",
       "      <td>28248.000000</td>\n",
       "      <td>28248.000000</td>\n",
       "      <td>28248.000000</td>\n",
       "      <td>28248.000000</td>\n",
       "    </tr>\n",
       "    <tr>\n",
       "      <th>mean</th>\n",
       "      <td>2001.541950</td>\n",
       "      <td>77047.863282</td>\n",
       "      <td>37069.136973</td>\n",
       "      <td>20.543722</td>\n",
       "    </tr>\n",
       "    <tr>\n",
       "      <th>std</th>\n",
       "      <td>7.052997</td>\n",
       "      <td>84950.194454</td>\n",
       "      <td>59954.787836</td>\n",
       "      <td>6.311828</td>\n",
       "    </tr>\n",
       "    <tr>\n",
       "      <th>min</th>\n",
       "      <td>1990.000000</td>\n",
       "      <td>50.000000</td>\n",
       "      <td>0.040000</td>\n",
       "      <td>1.300000</td>\n",
       "    </tr>\n",
       "    <tr>\n",
       "      <th>25%</th>\n",
       "      <td>1995.000000</td>\n",
       "      <td>19918.750000</td>\n",
       "      <td>1695.710000</td>\n",
       "      <td>16.710000</td>\n",
       "    </tr>\n",
       "    <tr>\n",
       "      <th>50%</th>\n",
       "      <td>2001.000000</td>\n",
       "      <td>38295.000000</td>\n",
       "      <td>17517.760000</td>\n",
       "      <td>21.510000</td>\n",
       "    </tr>\n",
       "    <tr>\n",
       "      <th>75%</th>\n",
       "      <td>2008.000000</td>\n",
       "      <td>104598.250000</td>\n",
       "      <td>48687.880000</td>\n",
       "      <td>26.000000</td>\n",
       "    </tr>\n",
       "    <tr>\n",
       "      <th>max</th>\n",
       "      <td>2013.000000</td>\n",
       "      <td>501412.000000</td>\n",
       "      <td>367778.000000</td>\n",
       "      <td>30.650000</td>\n",
       "    </tr>\n",
       "  </tbody>\n",
       "</table>\n",
       "</div>"
      ],
      "text/plain": [
       "               Year        Value_x        Value_y      avg_temp\n",
       "count  28248.000000   28248.000000   28248.000000  28248.000000\n",
       "mean    2001.541950   77047.863282   37069.136973     20.543722\n",
       "std        7.052997   84950.194454   59954.787836      6.311828\n",
       "min     1990.000000      50.000000       0.040000      1.300000\n",
       "25%     1995.000000   19918.750000    1695.710000     16.710000\n",
       "50%     2001.000000   38295.000000   17517.760000     21.510000\n",
       "75%     2008.000000  104598.250000   48687.880000     26.000000\n",
       "max     2013.000000  501412.000000  367778.000000     30.650000"
      ]
     },
     "execution_count": 10,
     "metadata": {},
     "output_type": "execute_result"
    }
   ],
   "source": [
    "prty.describe()"
   ]
  },
  {
   "cell_type": "code",
   "execution_count": 11,
   "metadata": {
    "colab": {
     "base_uri": "https://localhost:8080/"
    },
    "id": "LI8ptt7_v9vM",
    "outputId": "bbfe1589-851e-4b17-e98f-a8e6a69122e0"
   },
   "outputs": [
    {
     "name": "stdout",
     "output_type": "stream",
     "text": [
      "Index(['Area', 'Item', 'Year', 'hg/ha_yield', 'average_rain_fall_mm_per_year',\n",
      "       'pesticides_tonnes', 'avg_temp'],\n",
      "      dtype='object')\n",
      "Index(['Area', 'Item', 'Year', 'hg/ha_yield', 'pesticides_tonnes',\n",
      "       'average_rain_fall_mm_per_year', 'avg_temp'],\n",
      "      dtype='object')\n"
     ]
    }
   ],
   "source": [
    "prty.rename(columns={'Value_y':'pesticides_tonnes','Value_x':'hg/ha_yield'},inplace=True)\n",
    "prty=prty.drop('Element',axis=1)\n",
    "yield_df_df=yield_df_df.drop('Unnamed: 0',axis=1)\n",
    "print(yield_df_df.columns)\n",
    "print(prty.columns)"
   ]
  },
  {
   "cell_type": "code",
   "execution_count": 12,
   "metadata": {
    "colab": {
     "base_uri": "https://localhost:8080/"
    },
    "id": "hPZka4n-wZ8M",
    "outputId": "47a0257a-fdb3-4b34-82c8-438de89a956d"
   },
   "outputs": [
    {
     "data": {
      "text/plain": [
       "((28242, 7), (28248, 7))"
      ]
     },
     "execution_count": 12,
     "metadata": {},
     "output_type": "execute_result"
    }
   ],
   "source": [
    "yield_df_df.shape,prty.shape"
   ]
  },
  {
   "cell_type": "code",
   "execution_count": 13,
   "metadata": {
    "colab": {
     "base_uri": "https://localhost:8080/",
     "height": 300
    },
    "id": "91aD-lU2wgmb",
    "outputId": "41134261-224a-4785-8ec4-5a77f8ca1524"
   },
   "outputs": [
    {
     "data": {
      "text/html": [
       "<div>\n",
       "<style scoped>\n",
       "    .dataframe tbody tr th:only-of-type {\n",
       "        vertical-align: middle;\n",
       "    }\n",
       "\n",
       "    .dataframe tbody tr th {\n",
       "        vertical-align: top;\n",
       "    }\n",
       "\n",
       "    .dataframe thead th {\n",
       "        text-align: right;\n",
       "    }\n",
       "</style>\n",
       "<table border=\"1\" class=\"dataframe\">\n",
       "  <thead>\n",
       "    <tr style=\"text-align: right;\">\n",
       "      <th></th>\n",
       "      <th>Year</th>\n",
       "      <th>hg/ha_yield</th>\n",
       "      <th>pesticides_tonnes</th>\n",
       "      <th>avg_temp</th>\n",
       "    </tr>\n",
       "  </thead>\n",
       "  <tbody>\n",
       "    <tr>\n",
       "      <th>count</th>\n",
       "      <td>28248.000000</td>\n",
       "      <td>28248.000000</td>\n",
       "      <td>28248.000000</td>\n",
       "      <td>28248.000000</td>\n",
       "    </tr>\n",
       "    <tr>\n",
       "      <th>mean</th>\n",
       "      <td>2001.541950</td>\n",
       "      <td>77047.863282</td>\n",
       "      <td>37069.136973</td>\n",
       "      <td>20.543722</td>\n",
       "    </tr>\n",
       "    <tr>\n",
       "      <th>std</th>\n",
       "      <td>7.052997</td>\n",
       "      <td>84950.194454</td>\n",
       "      <td>59954.787836</td>\n",
       "      <td>6.311828</td>\n",
       "    </tr>\n",
       "    <tr>\n",
       "      <th>min</th>\n",
       "      <td>1990.000000</td>\n",
       "      <td>50.000000</td>\n",
       "      <td>0.040000</td>\n",
       "      <td>1.300000</td>\n",
       "    </tr>\n",
       "    <tr>\n",
       "      <th>25%</th>\n",
       "      <td>1995.000000</td>\n",
       "      <td>19918.750000</td>\n",
       "      <td>1695.710000</td>\n",
       "      <td>16.710000</td>\n",
       "    </tr>\n",
       "    <tr>\n",
       "      <th>50%</th>\n",
       "      <td>2001.000000</td>\n",
       "      <td>38295.000000</td>\n",
       "      <td>17517.760000</td>\n",
       "      <td>21.510000</td>\n",
       "    </tr>\n",
       "    <tr>\n",
       "      <th>75%</th>\n",
       "      <td>2008.000000</td>\n",
       "      <td>104598.250000</td>\n",
       "      <td>48687.880000</td>\n",
       "      <td>26.000000</td>\n",
       "    </tr>\n",
       "    <tr>\n",
       "      <th>max</th>\n",
       "      <td>2013.000000</td>\n",
       "      <td>501412.000000</td>\n",
       "      <td>367778.000000</td>\n",
       "      <td>30.650000</td>\n",
       "    </tr>\n",
       "  </tbody>\n",
       "</table>\n",
       "</div>"
      ],
      "text/plain": [
       "               Year    hg/ha_yield  pesticides_tonnes      avg_temp\n",
       "count  28248.000000   28248.000000       28248.000000  28248.000000\n",
       "mean    2001.541950   77047.863282       37069.136973     20.543722\n",
       "std        7.052997   84950.194454       59954.787836      6.311828\n",
       "min     1990.000000      50.000000           0.040000      1.300000\n",
       "25%     1995.000000   19918.750000        1695.710000     16.710000\n",
       "50%     2001.000000   38295.000000       17517.760000     21.510000\n",
       "75%     2008.000000  104598.250000       48687.880000     26.000000\n",
       "max     2013.000000  501412.000000      367778.000000     30.650000"
      ]
     },
     "execution_count": 13,
     "metadata": {},
     "output_type": "execute_result"
    }
   ],
   "source": [
    "prty.describe()"
   ]
  },
  {
   "cell_type": "code",
   "execution_count": 14,
   "metadata": {
    "colab": {
     "base_uri": "https://localhost:8080/"
    },
    "id": "847Dna7LxQeI",
    "outputId": "3669b7ee-6f8e-4660-b4fc-1061b4d7a392"
   },
   "outputs": [
    {
     "name": "stdout",
     "output_type": "stream",
     "text": [
      "<class 'pandas.core.frame.DataFrame'>\n",
      "RangeIndex: 28248 entries, 0 to 28247\n",
      "Data columns (total 7 columns):\n",
      " #   Column                         Non-Null Count  Dtype  \n",
      "---  ------                         --------------  -----  \n",
      " 0   Area                           28248 non-null  object \n",
      " 1   Item                           28248 non-null  object \n",
      " 2   Year                           28248 non-null  int64  \n",
      " 3   hg/ha_yield                    28248 non-null  int64  \n",
      " 4   pesticides_tonnes              28248 non-null  float64\n",
      " 5   average_rain_fall_mm_per_year  28248 non-null  object \n",
      " 6   avg_temp                       28248 non-null  float64\n",
      "dtypes: float64(2), int64(2), object(3)\n",
      "memory usage: 1.5+ MB\n"
     ]
    }
   ],
   "source": [
    "prty.info()"
   ]
  },
  {
   "cell_type": "code",
   "execution_count": 15,
   "metadata": {
    "colab": {
     "base_uri": "https://localhost:8080/"
    },
    "id": "SQDxIunyyd95",
    "outputId": "e358f0d2-2554-42bd-cb1a-a0e57543e4d4"
   },
   "outputs": [
    {
     "data": {
      "text/plain": [
       "0.0"
      ]
     },
     "execution_count": 15,
     "metadata": {},
     "output_type": "execute_result"
    }
   ],
   "source": [
    "prty.isnull().sum().sum()/prty.shape[0]"
   ]
  },
  {
   "cell_type": "code",
   "execution_count": 16,
   "metadata": {
    "colab": {
     "base_uri": "https://localhost:8080/"
    },
    "id": "LVpVC67LyltH",
    "outputId": "5fdf99eb-c3cb-40e6-b16c-4e96f72b568b"
   },
   "outputs": [
    {
     "data": {
      "text/plain": [
       "Area                             0\n",
       "Item                             0\n",
       "Year                             0\n",
       "hg/ha_yield                      0\n",
       "pesticides_tonnes                0\n",
       "average_rain_fall_mm_per_year    0\n",
       "avg_temp                         0\n",
       "dtype: int64"
      ]
     },
     "execution_count": 16,
     "metadata": {},
     "output_type": "execute_result"
    }
   ],
   "source": [
    "prty=prty.dropna()\n",
    "prty.isnull().sum()"
   ]
  },
  {
   "cell_type": "code",
   "execution_count": 17,
   "metadata": {
    "colab": {
     "base_uri": "https://localhost:8080/"
    },
    "id": "GMybxaIc-lip",
    "outputId": "ea2b06ae-cc0e-467e-f5e3-d6f823b074e4"
   },
   "outputs": [
    {
     "name": "stdout",
     "output_type": "stream",
     "text": [
      "['Year', 'hg/ha_yield', 'pesticides_tonnes', 'average_rain_fall_mm_per_year', 'avg_temp']\n",
      "['Area', 'Item']\n"
     ]
    }
   ],
   "source": [
    "prty['average_rain_fall_mm_per_year'] = prty['average_rain_fall_mm_per_year'].replace('..',np.nan)\n",
    "prty['average_rain_fall_mm_per_year'] = prty['average_rain_fall_mm_per_year'].astype('float')\n",
    "prty=prty.dropna()\n",
    "num_cols = [i for i in prty.columns if (prty[i].dtype == 'float64' or prty[i].dtype == 'int64')]\n",
    "cat_cols = [i for i in prty.columns if (i not in num_cols) and i != 'hg/ha_yield']\n",
    "print(num_cols)\n",
    "print(cat_cols)"
   ]
  },
  {
   "cell_type": "code",
   "execution_count": 18,
   "metadata": {
    "colab": {
     "base_uri": "https://localhost:8080/",
     "height": 300
    },
    "id": "6qFJ8BDIWZIp",
    "outputId": "b0effd58-2b3c-421b-9126-e5f1a8a81466"
   },
   "outputs": [
    {
     "data": {
      "text/html": [
       "<div>\n",
       "<style scoped>\n",
       "    .dataframe tbody tr th:only-of-type {\n",
       "        vertical-align: middle;\n",
       "    }\n",
       "\n",
       "    .dataframe tbody tr th {\n",
       "        vertical-align: top;\n",
       "    }\n",
       "\n",
       "    .dataframe thead th {\n",
       "        text-align: right;\n",
       "    }\n",
       "</style>\n",
       "<table border=\"1\" class=\"dataframe\">\n",
       "  <thead>\n",
       "    <tr style=\"text-align: right;\">\n",
       "      <th></th>\n",
       "      <th>Year</th>\n",
       "      <th>hg/ha_yield</th>\n",
       "      <th>pesticides_tonnes</th>\n",
       "      <th>average_rain_fall_mm_per_year</th>\n",
       "      <th>avg_temp</th>\n",
       "    </tr>\n",
       "  </thead>\n",
       "  <tbody>\n",
       "    <tr>\n",
       "      <th>count</th>\n",
       "      <td>28242.000000</td>\n",
       "      <td>28242.000000</td>\n",
       "      <td>28242.000000</td>\n",
       "      <td>28242.00000</td>\n",
       "      <td>28242.000000</td>\n",
       "    </tr>\n",
       "    <tr>\n",
       "      <th>mean</th>\n",
       "      <td>2001.544296</td>\n",
       "      <td>77053.332094</td>\n",
       "      <td>37076.909344</td>\n",
       "      <td>1149.05598</td>\n",
       "      <td>20.542627</td>\n",
       "    </tr>\n",
       "    <tr>\n",
       "      <th>std</th>\n",
       "      <td>7.051905</td>\n",
       "      <td>84956.612897</td>\n",
       "      <td>59958.784665</td>\n",
       "      <td>709.81215</td>\n",
       "      <td>6.312051</td>\n",
       "    </tr>\n",
       "    <tr>\n",
       "      <th>min</th>\n",
       "      <td>1990.000000</td>\n",
       "      <td>50.000000</td>\n",
       "      <td>0.040000</td>\n",
       "      <td>51.00000</td>\n",
       "      <td>1.300000</td>\n",
       "    </tr>\n",
       "    <tr>\n",
       "      <th>25%</th>\n",
       "      <td>1995.000000</td>\n",
       "      <td>19919.250000</td>\n",
       "      <td>1702.000000</td>\n",
       "      <td>593.00000</td>\n",
       "      <td>16.702500</td>\n",
       "    </tr>\n",
       "    <tr>\n",
       "      <th>50%</th>\n",
       "      <td>2001.000000</td>\n",
       "      <td>38295.000000</td>\n",
       "      <td>17529.440000</td>\n",
       "      <td>1083.00000</td>\n",
       "      <td>21.510000</td>\n",
       "    </tr>\n",
       "    <tr>\n",
       "      <th>75%</th>\n",
       "      <td>2008.000000</td>\n",
       "      <td>104676.750000</td>\n",
       "      <td>48687.880000</td>\n",
       "      <td>1668.00000</td>\n",
       "      <td>26.000000</td>\n",
       "    </tr>\n",
       "    <tr>\n",
       "      <th>max</th>\n",
       "      <td>2013.000000</td>\n",
       "      <td>501412.000000</td>\n",
       "      <td>367778.000000</td>\n",
       "      <td>3240.00000</td>\n",
       "      <td>30.650000</td>\n",
       "    </tr>\n",
       "  </tbody>\n",
       "</table>\n",
       "</div>"
      ],
      "text/plain": [
       "               Year    hg/ha_yield  pesticides_tonnes  \\\n",
       "count  28242.000000   28242.000000       28242.000000   \n",
       "mean    2001.544296   77053.332094       37076.909344   \n",
       "std        7.051905   84956.612897       59958.784665   \n",
       "min     1990.000000      50.000000           0.040000   \n",
       "25%     1995.000000   19919.250000        1702.000000   \n",
       "50%     2001.000000   38295.000000       17529.440000   \n",
       "75%     2008.000000  104676.750000       48687.880000   \n",
       "max     2013.000000  501412.000000      367778.000000   \n",
       "\n",
       "       average_rain_fall_mm_per_year      avg_temp  \n",
       "count                    28242.00000  28242.000000  \n",
       "mean                      1149.05598     20.542627  \n",
       "std                        709.81215      6.312051  \n",
       "min                         51.00000      1.300000  \n",
       "25%                        593.00000     16.702500  \n",
       "50%                       1083.00000     21.510000  \n",
       "75%                       1668.00000     26.000000  \n",
       "max                       3240.00000     30.650000  "
      ]
     },
     "execution_count": 18,
     "metadata": {},
     "output_type": "execute_result"
    }
   ],
   "source": [
    "prty.describe()"
   ]
  },
  {
   "cell_type": "code",
   "execution_count": 19,
   "metadata": {
    "colab": {
     "base_uri": "https://localhost:8080/",
     "height": 1000
    },
    "id": "hCeeR4DqW1Nf",
    "outputId": "2299a934-8b0b-4f5f-f8f0-e3f919b2c250"
   },
   "outputs": [
    {
     "data": {
      "image/png": "[encoded data removed]",
      "text/plain": [
       "<Figure size 1200x1600 with 5 Axes>"
      ]
     },
     "metadata": {},
     "output_type": "display_data"
    }
   ],
   "source": [
    "plt.figure(figsize=(12, 16))\n",
    "for i, col in enumerate(num_cols, 1):\n",
    "    plt.subplot(3, 2, i)\n",
    "    sns.boxplot(data=prty[col])\n",
    "    plt.title(f'Box Plot of {col}')\n",
    "    plt.ylabel('Value')\n",
    "\n",
    "plt.tight_layout()\n",
    "plt.show()"
   ]
  },
  {
   "cell_type": "code",
   "execution_count": null,
   "metadata": {
    "colab": {
     "base_uri": "https://localhost:8080/",
     "height": 671
    },
    "id": "Tic2EW1ZXTId",
    "outputId": "f6ab4930-cc37-48d4-8e0b-722a2bb0e806"
   },
   "outputs": [],
   "source": [
    "\n",
    "plt.figure(figsize=(10,6))\n",
    "sns.countplot(x='Item',data=prty)\n",
    "plt.title('Countplot of Item vs its count')\n",
    "plt.xlabel('Crops',fontsize=18,loc='center')\n",
    "plt.ylabel('Count',fontsize=18,loc='center')\n",
    "plt.xticks(rotation=45)\n",
    "plt.show()"
   ]
  },
  {
   "cell_type": "code",
   "execution_count": null,
   "metadata": {
    "colab": {
     "base_uri": "https://localhost:8080/",
     "height": 1000
    },
    "id": "A6vX850lXWiA",
    "outputId": "bdf11efa-49f4-4057-f65a-335e79018325"
   },
   "outputs": [],
   "source": [
    "fig, axes = plt.subplots(3, 1, figsize=(18, 22))\n",
    "sns.lineplot(x = \"pesticides_tonnes\", y = \"hg/ha_yield\", hue = \"Item\", data = prty, ax=axes[0], legend = True)\n",
    "axes[0].tick_params(axis='x', rotation=45)\n",
    "axes[0].set_ylabel('Average Yield')\n",
    "axes[0].legend(bbox_to_anchor=(1.05, 1), loc='upper left')\n",
    "\n",
    "sns.lineplot(x = \"average_rain_fall_mm_per_year\", y = \"hg/ha_yield\", hue = \"Item\", data = prty, ax=axes[1], legend = True)\n",
    "axes[1].tick_params(axis='x', rotation=45)\n",
    "axes[1].set_ylabel('Average Yield')\n",
    "axes[1].legend(bbox_to_anchor=(1.05, 1), loc='upper left')\n",
    "\n",
    "sns.lineplot(x = \"avg_temp\", y = \"hg/ha_yield\", hue = \"Item\", data = prty, ax=axes[2], legend = True)\n",
    "axes[2].tick_params(axis='x', rotation=45)\n",
    "axes[2].set_ylabel('Average Yield')\n",
    "axes[2].legend(bbox_to_anchor=(1.05, 1), loc='upper left')\n",
    "\n",
    "plt.tight_layout()\n",
    "plt.show()"
   ]
  },
  {
   "cell_type": "code",
   "execution_count": null,
   "metadata": {
    "colab": {
     "base_uri": "https://localhost:8080/",
     "height": 556
    },
    "id": "5WikjL18eeQ0",
    "outputId": "b702f982-59a8-48c2-a2d2-134c3faebd4d"
   },
   "outputs": [],
   "source": [
    "df=prty.copy()\n",
    "df['yield_rainfall_ratio'] = df['hg/ha_yield'] / df['average_rain_fall_mm_per_year']\n",
    "top_10_crops = df.groupby('Item')['yield_rainfall_ratio'].mean().sort_values(ascending=False).head(10).index\n",
    "top_10_data = df[df['Item'].isin(top_10_crops)]\n",
    "sns.barplot(data=top_10_data, x='Item', y='yield_rainfall_ratio', order=top_10_crops)\n",
    "plt.xlabel('Crops',fontsize=18)\n",
    "plt.ylabel('Yield/Average Rainfall',fontsize=18)\n",
    "plt.xticks(rotation=45)\n",
    "plt.show()"
   ]
  },
  {
   "cell_type": "code",
   "execution_count": null,
   "metadata": {
    "colab": {
     "base_uri": "https://localhost:8080/",
     "height": 501
    },
    "id": "Ve7RA1anei82",
    "outputId": "07d07aa1-69a3-4a63-adb6-f519a8eb25cd"
   },
   "outputs": [],
   "source": [
    "df=prty.copy()\n",
    "df['yield_rainfall_ratio'] = df['hg/ha_yield'] / df['average_rain_fall_mm_per_year']\n",
    "top_10_countries = df.groupby('Area')['yield_rainfall_ratio'].mean().sort_values(ascending=False).head(10).index\n",
    "top_10_data = df[df['Area'].isin(top_10_countries)]\n",
    "sns.boxplot(data=top_10_data, x='Area', y='yield_rainfall_ratio', order=top_10_countries)\n",
    "plt.xlabel('Countries',fontsize=18)\n",
    "plt.ylabel('Yield/Average Rainfall',fontsize=18)\n",
    "plt.xticks(rotation=45)\n",
    "plt.show()"
   ]
  },
  {
   "cell_type": "code",
   "execution_count": null,
   "metadata": {
    "colab": {
     "base_uri": "https://localhost:8080/",
     "height": 867
    },
    "id": "p_qrOiNMepg3",
    "outputId": "2fa84f94-3fdd-499b-c025-6d691bc42923"
   },
   "outputs": [],
   "source": [
    "plt.figure(figsize=(8,7))\n",
    "sns.heatmap(prty.corr(), annot=True,linewidth=.5,cmap='crest')\n",
    "plt.show()"
   ]
  },
  {
   "cell_type": "code",
   "execution_count": null,
   "metadata": {
    "colab": {
     "base_uri": "https://localhost:8080/",
     "height": 1000
    },
    "id": "nIuVJ6pnfVsd",
    "outputId": "2e322b35-8206-4966-d91a-ab86db434c4d"
   },
   "outputs": [],
   "source": [
    "fig, axes = plt.subplots(3, 1, figsize=(18, 22))\n",
    "\n",
    "sns.scatterplot(x = \"pesticides_tonnes\", y = \"hg/ha_yield\", hue = \"Item\", data = prty, ax=axes[0], legend = True)\n",
    "axes[0].tick_params(axis='x', rotation=45)\n",
    "axes[0].set_ylabel('Average Yield')\n",
    "axes[0].legend(bbox_to_anchor=(1.05, 1), loc='upper left')\n",
    "\n",
    "sns.scatterplot(x = \"average_rain_fall_mm_per_year\", y = \"hg/ha_yield\", hue = \"Item\", data = prty, ax=axes[1], legend = True)\n",
    "axes[1].tick_params(axis='x', rotation=45)\n",
    "axes[1].set_ylabel('Average Yield')\n",
    "axes[1].legend(bbox_to_anchor=(1.05, 1), loc='upper left')\n",
    "\n",
    "sns.scatterplot(x = \"avg_temp\", y = \"hg/ha_yield\", hue = \"Item\", data = prty, ax=axes[2], legend = True)\n",
    "axes[2].tick_params(axis='x', rotation=45)\n",
    "axes[2].set_ylabel('Average Yield')\n",
    "axes[2].legend(bbox_to_anchor=(1.05, 1), loc='upper left')\n",
    "\n",
    "plt.tight_layout()\n",
    "plt.show()\n",
    "\n"
   ]
  },
  {
   "cell_type": "code",
   "execution_count": null,
   "metadata": {
    "colab": {
     "base_uri": "https://localhost:8080/"
    },
    "id": "Ajfhg5FbfhaQ",
    "outputId": "af188bd3-e904-42de-f693-6d0054516d94"
   },
   "outputs": [],
   "source": [
    "prty.columns"
   ]
  },
  {
   "cell_type": "code",
   "execution_count": null,
   "metadata": {
    "colab": {
     "base_uri": "https://localhost:8080/"
    },
    "id": "2AMckBzFf8iV",
    "outputId": "dd7861ac-f31e-41ec-ff30-78b55f4033c8"
   },
   "outputs": [],
   "source": [
    "prty.info()"
   ]
  },
  {
   "cell_type": "code",
   "execution_count": null,
   "metadata": {
    "colab": {
     "base_uri": "https://localhost:8080/",
     "height": 300
    },
    "id": "fgjjPm3BgCWM",
    "outputId": "0fd48f85-a0ca-4d60-bc6e-9121ddb3394d"
   },
   "outputs": [],
   "source": [
    "prty.describe()"
   ]
  },
  {
   "cell_type": "code",
   "execution_count": null,
   "metadata": {
    "id": "LVRSPwGLgHPc"
   },
   "outputs": [],
   "source": [
    "# from sklearn.impute import SimpleImputer\n",
    "# from sklearn.preprocessing import OneHotEncoder, StandardScaler\n",
    "\n",
    "# # First, we have performed one hot encoding on the categorical features, and then\n",
    "# # performed standard scaling on all the features\n",
    "# prty = prty.drop('Year', axis=True,errors='ignore')\n",
    "# X,y=prty.drop('hg/ha_yield',axis=1),prty['hg/ha_yield']\n",
    "# X = pd.get_dummies(X,columns = cat_cols, drop_first = True)\n",
    "# scaler = StandardScaler()\n",
    "# X=scaler.fit_transform(X)"
   ]
  },
  {
   "cell_type": "code",
   "execution_count": 20,
   "metadata": {
    "colab": {
     "base_uri": "https://localhost:8080/"
    },
    "id": "aPeBjaBhgTrn",
    "outputId": "7ddefecd-9036-4504-84f5-564b8d544fdf"
   },
   "outputs": [],
   "source": [
    "df=prty"
   ]
  },
  {
   "cell_type": "code",
   "execution_count": 21,
   "metadata": {},
   "outputs": [
    {
     "data": {
      "text/html": [
       "<div>\n",
       "<style scoped>\n",
       "    .dataframe tbody tr th:only-of-type {\n",
       "        vertical-align: middle;\n",
       "    }\n",
       "\n",
       "    .dataframe tbody tr th {\n",
       "        vertical-align: top;\n",
       "    }\n",
       "\n",
       "    .dataframe thead th {\n",
       "        text-align: right;\n",
       "    }\n",
       "</style>\n",
       "<table border=\"1\" class=\"dataframe\">\n",
       "  <thead>\n",
       "    <tr style=\"text-align: right;\">\n",
       "      <th></th>\n",
       "      <th>Area</th>\n",
       "      <th>Item</th>\n",
       "      <th>Year</th>\n",
       "      <th>hg/ha_yield</th>\n",
       "      <th>pesticides_tonnes</th>\n",
       "      <th>average_rain_fall_mm_per_year</th>\n",
       "      <th>avg_temp</th>\n",
       "    </tr>\n",
       "  </thead>\n",
       "  <tbody>\n",
       "    <tr>\n",
       "      <th>0</th>\n",
       "      <td>Albania</td>\n",
       "      <td>Maize</td>\n",
       "      <td>1990</td>\n",
       "      <td>36613</td>\n",
       "      <td>121.00</td>\n",
       "      <td>1485.0</td>\n",
       "      <td>16.37</td>\n",
       "    </tr>\n",
       "    <tr>\n",
       "      <th>1</th>\n",
       "      <td>Albania</td>\n",
       "      <td>Potatoes</td>\n",
       "      <td>1990</td>\n",
       "      <td>66667</td>\n",
       "      <td>121.00</td>\n",
       "      <td>1485.0</td>\n",
       "      <td>16.37</td>\n",
       "    </tr>\n",
       "    <tr>\n",
       "      <th>2</th>\n",
       "      <td>Albania</td>\n",
       "      <td>Rice, paddy</td>\n",
       "      <td>1990</td>\n",
       "      <td>23333</td>\n",
       "      <td>121.00</td>\n",
       "      <td>1485.0</td>\n",
       "      <td>16.37</td>\n",
       "    </tr>\n",
       "    <tr>\n",
       "      <th>3</th>\n",
       "      <td>Albania</td>\n",
       "      <td>Sorghum</td>\n",
       "      <td>1990</td>\n",
       "      <td>12500</td>\n",
       "      <td>121.00</td>\n",
       "      <td>1485.0</td>\n",
       "      <td>16.37</td>\n",
       "    </tr>\n",
       "    <tr>\n",
       "      <th>4</th>\n",
       "      <td>Albania</td>\n",
       "      <td>Soybeans</td>\n",
       "      <td>1990</td>\n",
       "      <td>7000</td>\n",
       "      <td>121.00</td>\n",
       "      <td>1485.0</td>\n",
       "      <td>16.37</td>\n",
       "    </tr>\n",
       "    <tr>\n",
       "      <th>...</th>\n",
       "      <td>...</td>\n",
       "      <td>...</td>\n",
       "      <td>...</td>\n",
       "      <td>...</td>\n",
       "      <td>...</td>\n",
       "      <td>...</td>\n",
       "      <td>...</td>\n",
       "    </tr>\n",
       "    <tr>\n",
       "      <th>28243</th>\n",
       "      <td>Zimbabwe</td>\n",
       "      <td>Rice, paddy</td>\n",
       "      <td>2013</td>\n",
       "      <td>22581</td>\n",
       "      <td>2550.07</td>\n",
       "      <td>657.0</td>\n",
       "      <td>19.76</td>\n",
       "    </tr>\n",
       "    <tr>\n",
       "      <th>28244</th>\n",
       "      <td>Zimbabwe</td>\n",
       "      <td>Sorghum</td>\n",
       "      <td>2013</td>\n",
       "      <td>3066</td>\n",
       "      <td>2550.07</td>\n",
       "      <td>657.0</td>\n",
       "      <td>19.76</td>\n",
       "    </tr>\n",
       "    <tr>\n",
       "      <th>28245</th>\n",
       "      <td>Zimbabwe</td>\n",
       "      <td>Soybeans</td>\n",
       "      <td>2013</td>\n",
       "      <td>13142</td>\n",
       "      <td>2550.07</td>\n",
       "      <td>657.0</td>\n",
       "      <td>19.76</td>\n",
       "    </tr>\n",
       "    <tr>\n",
       "      <th>28246</th>\n",
       "      <td>Zimbabwe</td>\n",
       "      <td>Sweet potatoes</td>\n",
       "      <td>2013</td>\n",
       "      <td>22222</td>\n",
       "      <td>2550.07</td>\n",
       "      <td>657.0</td>\n",
       "      <td>19.76</td>\n",
       "    </tr>\n",
       "    <tr>\n",
       "      <th>28247</th>\n",
       "      <td>Zimbabwe</td>\n",
       "      <td>Wheat</td>\n",
       "      <td>2013</td>\n",
       "      <td>22888</td>\n",
       "      <td>2550.07</td>\n",
       "      <td>657.0</td>\n",
       "      <td>19.76</td>\n",
       "    </tr>\n",
       "  </tbody>\n",
       "</table>\n",
       "<p>28242 rows × 7 columns</p>\n",
       "</div>"
      ],
      "text/plain": [
       "           Area            Item  Year  hg/ha_yield  pesticides_tonnes  \\\n",
       "0       Albania           Maize  1990        36613             121.00   \n",
       "1       Albania        Potatoes  1990        66667             121.00   \n",
       "2       Albania     Rice, paddy  1990        23333             121.00   \n",
       "3       Albania         Sorghum  1990        12500             121.00   \n",
       "4       Albania        Soybeans  1990         7000             121.00   \n",
       "...         ...             ...   ...          ...                ...   \n",
       "28243  Zimbabwe     Rice, paddy  2013        22581            2550.07   \n",
       "28244  Zimbabwe         Sorghum  2013         3066            2550.07   \n",
       "28245  Zimbabwe        Soybeans  2013        13142            2550.07   \n",
       "28246  Zimbabwe  Sweet potatoes  2013        22222            2550.07   \n",
       "28247  Zimbabwe           Wheat  2013        22888            2550.07   \n",
       "\n",
       "       average_rain_fall_mm_per_year  avg_temp  \n",
       "0                             1485.0     16.37  \n",
       "1                             1485.0     16.37  \n",
       "2                             1485.0     16.37  \n",
       "3                             1485.0     16.37  \n",
       "4                             1485.0     16.37  \n",
       "...                              ...       ...  \n",
       "28243                          657.0     19.76  \n",
       "28244                          657.0     19.76  \n",
       "28245                          657.0     19.76  \n",
       "28246                          657.0     19.76  \n",
       "28247                          657.0     19.76  \n",
       "\n",
       "[28242 rows x 7 columns]"
      ]
     },
     "execution_count": 21,
     "metadata": {},
     "output_type": "execute_result"
    }
   ],
   "source": [
    "df"
   ]
  },
  {
   "cell_type": "code",
   "execution_count": null,
   "metadata": {},
   "outputs": [],
   "source": [
    "from sklearn.preprocessing import LabelEncoder"
   ]
  },
  {
   "cell_type": "code",
   "execution_count": 27,
   "metadata": {},
   "outputs": [
    {
     "data": {
      "text/plain": [
       "array(['Albania', 'Algeria', 'Angola', 'Argentina', 'Armenia',\n",
       "       'Australia', 'Austria', 'Azerbaijan', 'Bahamas', 'Bahrain',\n",
       "       'Bangladesh', 'Belarus', 'Belgium', 'Botswana', 'Brazil',\n",
       "       'Bulgaria', 'Burkina Faso', 'Burundi', 'Cameroon', 'Canada',\n",
       "       'Central African Republic', 'Chile', 'Colombia', 'Croatia',\n",
       "       'Denmark', 'Dominican Republic', 'Ecuador', 'Egypt', 'El Salvador',\n",
       "       'Eritrea', 'Estonia', 'Finland', 'France', 'Germany', 'Ghana',\n",
       "       'Greece', 'Guatemala', 'Guinea', 'Guyana', 'Haiti', 'Honduras',\n",
       "       'Hungary', 'India', 'Indonesia', 'Iraq', 'Ireland', 'Italy',\n",
       "       'Jamaica', 'Japan', 'Kazakhstan', 'Kenya', 'Latvia', 'Lebanon',\n",
       "       'Lesotho', 'Libya', 'Lithuania', 'Madagascar', 'Malawi',\n",
       "       'Malaysia', 'Mali', 'Mauritania', 'Mauritius', 'Mexico',\n",
       "       'Montenegro', 'Morocco', 'Mozambique', 'Namibia', 'Nepal',\n",
       "       'Netherlands', 'New Zealand', 'Nicaragua', 'Niger', 'Norway',\n",
       "       'Pakistan', 'Papua New Guinea', 'Peru', 'Poland', 'Portugal',\n",
       "       'Qatar', 'Romania', 'Rwanda', 'Saudi Arabia', 'Senegal',\n",
       "       'Slovenia', 'South Africa', 'Spain', 'Sri Lanka', 'Sudan',\n",
       "       'Suriname', 'Sweden', 'Switzerland', 'Tajikistan', 'Thailand',\n",
       "       'Tunisia', 'Turkey', 'Uganda', 'Ukraine', 'United Kingdom',\n",
       "       'Uruguay', 'Zambia', 'Zimbabwe'], dtype=object)"
      ]
     },
     "execution_count": 27,
     "metadata": {},
     "output_type": "execute_result"
    }
   ],
   "source": [
    "df[\"Area\"].unique()"
   ]
  },
  {
   "cell_type": "code",
   "execution_count": 28,
   "metadata": {},
   "outputs": [
    {
     "data": {
      "application/javascript": [
       "\n",
       "        if (window._pyforest_update_imports_cell) { window._pyforest_update_imports_cell('from sklearn.preprocessing import LabelEncoder'); }\n",
       "    "
      ],
      "text/plain": [
       "<IPython.core.display.Javascript object>"
      ]
     },
     "metadata": {},
     "output_type": "display_data"
    }
   ],
   "source": [
    "df[\"Area\"]=LabelEncoder().fit_transform(df[\"Area\"])"
   ]
  },
  {
   "cell_type": "code",
   "execution_count": null,
   "metadata": {},
   "outputs": [],
   "source": []
  },
  {
   "cell_type": "code",
   "execution_count": 29,
   "metadata": {},
   "outputs": [
    {
     "data": {
      "text/plain": [
       "array([  0,   1,   2,   3,   4,   5,   6,   7,   8,   9,  10,  11,  12,\n",
       "        13,  14,  15,  16,  17,  18,  19,  20,  21,  22,  23,  24,  25,\n",
       "        26,  27,  28,  29,  30,  31,  32,  33,  34,  35,  36,  37,  38,\n",
       "        39,  40,  41,  42,  43,  44,  45,  46,  47,  48,  49,  50,  51,\n",
       "        52,  53,  54,  55,  56,  57,  58,  59,  60,  61,  62,  63,  64,\n",
       "        65,  66,  67,  68,  69,  70,  71,  72,  73,  74,  75,  76,  77,\n",
       "        78,  79,  80,  81,  82,  83,  84,  85,  86,  87,  88,  89,  90,\n",
       "        91,  92,  93,  94,  95,  96,  97,  98,  99, 100])"
      ]
     },
     "execution_count": 29,
     "metadata": {},
     "output_type": "execute_result"
    }
   ],
   "source": [
    "df[\"Area\"].unique()"
   ]
  },
  {
   "cell_type": "code",
   "execution_count": 30,
   "metadata": {},
   "outputs": [
    {
     "data": {
      "text/plain": [
       "array(['Maize', 'Potatoes', 'Rice, paddy', 'Sorghum', 'Soybeans', 'Wheat',\n",
       "       'Cassava', 'Sweet potatoes', 'Plantains and others', 'Yams'],\n",
       "      dtype=object)"
      ]
     },
     "execution_count": 30,
     "metadata": {},
     "output_type": "execute_result"
    }
   ],
   "source": [
    "df[\"Item\"].unique()"
   ]
  },
  {
   "cell_type": "code",
   "execution_count": 31,
   "metadata": {},
   "outputs": [
    {
     "data": {
      "application/javascript": [
       "\n",
       "        if (window._pyforest_update_imports_cell) { window._pyforest_update_imports_cell('from sklearn.preprocessing import LabelEncoder'); }\n",
       "    "
      ],
      "text/plain": [
       "<IPython.core.display.Javascript object>"
      ]
     },
     "metadata": {},
     "output_type": "display_data"
    }
   ],
   "source": [
    "df[\"Item\"]=LabelEncoder().fit_transform(df[\"Item\"])"
   ]
  },
  {
   "cell_type": "code",
   "execution_count": null,
   "metadata": {},
   "outputs": [],
   "source": [
    "df[\"Item\"].unique()"
   ]
  },
  {
   "cell_type": "code",
   "execution_count": null,
   "metadata": {},
   "outputs": [],
   "source": [
    "prty=df"
   ]
  },
  {
   "cell_type": "code",
   "execution_count": null,
   "metadata": {},
   "outputs": [],
   "source": [
    "prty = prty.drop('Year', axis=True,errors='ignore')\n",
    "X,y=prty.drop('hg/ha_yield',axis=1),prty['hg/ha_yield']"
   ]
  },
  {
   "cell_type": "code",
   "execution_count": null,
   "metadata": {},
   "outputs": [],
   "source": [
    "X"
   ]
  },
  {
   "cell_type": "code",
   "execution_count": null,
   "metadata": {},
   "outputs": [],
   "source": [
    "y"
   ]
  },
  {
   "cell_type": "code",
   "execution_count": null,
   "metadata": {
    "colab": {
     "base_uri": "https://localhost:8080/"
    },
    "id": "Ps-vZCK4gVIB",
    "outputId": "294e9837-44a9-4325-f4c6-df3acbda0d08"
   },
   "outputs": [],
   "source": [
    "from sklearn.model_selection import train_test_split\n",
    "X_train,X_test,y_train,y_test=train_test_split(X,y,random_state=42,test_size=0.20,shuffle=True)\n",
    "print(X_train.shape,X_test.shape)"
   ]
  },
  {
   "cell_type": "code",
   "execution_count": null,
   "metadata": {},
   "outputs": [],
   "source": []
  },
  {
   "cell_type": "code",
   "execution_count": null,
   "metadata": {},
   "outputs": [],
   "source": []
  },
  {
   "cell_type": "code",
   "execution_count": null,
   "metadata": {
    "colab": {
     "base_uri": "https://localhost:8080/"
    },
    "id": "6uMfdO6wgZ2l",
    "outputId": "0455e301-6a0f-46ac-9d67-154c62e033f1"
   },
   "outputs": [],
   "source": [
    "from sklearn.svm import SVR\n",
    "from sklearn.preprocessing import PolynomialFeatures\n",
    "from sklearn.linear_model import LinearRegression,Lasso\n",
    "from sklearn.ensemble import RandomForestRegressor\n",
    "import xgboost as xgb\n",
    "from sklearn.model_selection import GridSearchCV\n",
    "from sklearn.metrics import mean_squared_error, r2_score\n",
    "\n",
    "poly=PolynomialFeatures(degree=2,order='C',include_bias=True)\n",
    "X_train_poly = poly.fit_transform(X_train)\n",
    "X_test_poly = poly.transform(X_test)\n",
    "lin_reg=LinearRegression()\n",
    "lin_reg.fit(X_train_poly,y_train)\n",
    "y_pred=lin_reg.predict(X_test_poly)\n",
    "\n",
    "mse = mean_squared_error(y_test, y_pred)\n",
    "r2 = r2_score(y_test, y_pred)\n",
    "\n",
    "print(\"Mean Squared Error:\", mse)\n",
    "print(\"R-squared:\", r2)"
   ]
  },
  {
   "cell_type": "code",
   "execution_count": null,
   "metadata": {
    "id": "mPP_9hSyhuM2"
   },
   "outputs": [],
   "source": [
    "model_names=['svm_regressor','random_forest_regressor','lasso_regressor','XGBoost_Regressor']\n",
    "\n",
    "svr=SVR(kernel='rbf', gamma='auto')\n",
    "random_forest=RandomForestRegressor()\n",
    "lasso_regressor = Lasso(alpha=1.0, random_state=42,max_iter=3000)\n",
    "xgb_regressor = xgb.XGBRegressor(n_estimators=100, random_state=42)\n",
    "\n",
    "models = [svr, random_forest, lasso_regressor, xgb_regressor]\n",
    "\n",
    "model_params = [\n",
    "    {},\n",
    "    {'n_estimators': [10, 50, 100]},\n",
    "    {'alpha': [0.1, 1.0, 10.0]},\n",
    "    {'n_estimators': [50, 100, 200], 'learning_rate': [0.1, 0.5, 1.0]}\n",
    "]"
   ]
  },
  {
   "cell_type": "code",
   "execution_count": null,
   "metadata": {
    "colab": {
     "base_uri": "https://localhost:8080/",
     "height": 542
    },
    "id": "282FYaQtjubu",
    "outputId": "a7cdd01c-1468-444c-e27c-0fec15d1da87"
   },
   "outputs": [],
   "source": [
    "\n",
    "scores = []\n",
    "best_estimators = {}\n",
    "\n",
    "for name, model, params in zip(model_names, models, model_params):\n",
    "    clf = GridSearchCV(model, params, cv=5, return_train_score=False)\n",
    "    clf.fit(X_train, y_train)\n",
    "    scores.append({\n",
    "        'model': name,\n",
    "        'best_score': clf.best_score_,\n",
    "        'best_params': clf.best_params_\n",
    "    })\n",
    "    best_estimators[model] = clf.best_estimator_\n",
    "\n",
    "res = pd.DataFrame(scores, columns=['model', 'best_score', 'best_params'])\n",
    "res"
   ]
  },
  {
   "cell_type": "code",
   "execution_count": null,
   "metadata": {
    "colab": {
     "base_uri": "https://localhost:8080/"
    },
    "id": "J2FWF35PlM5T",
    "outputId": "b98cac67-836f-4b10-f86d-66a690af9a1e"
   },
   "outputs": [],
   "source": [
    "best_model=RandomForestRegressor(n_estimators=100)\n",
    "best_model.fit(X_train,y_train)\n",
    "y_pred=best_model.predict(X_test)\n",
    "\n",
    "r2 = r2_score(y_test, y_pred)\n",
    "print(\"R-squared:\", r2)"
   ]
  },
  {
   "cell_type": "code",
   "execution_count": null,
   "metadata": {
    "colab": {
     "base_uri": "https://localhost:8080/",
     "height": 581
    },
    "id": "QEqYb2v6sydn",
    "outputId": "47865367-ad4d-40fb-ad62-c624d905169b"
   },
   "outputs": [],
   "source": [
    "plt.figure(figsize=(10, 6))\n",
    "sns.scatterplot(x=y_test, y=y_pred, alpha=0.7, color='green', label='Predicted')\n",
    "sns.scatterplot(x=y_test, y=y_test, alpha=0.7, color='orange', label='Actual')\n",
    "plt.xlabel(\"Actual Values (y_test)\")\n",
    "plt.ylabel(\"Predicted Values (y_pred)\")\n",
    "plt.title(\"Actual vs. Predicted Values\")\n",
    "plt.grid(True)\n",
    "plt.legend()"
   ]
  },
  {
   "cell_type": "code",
   "execution_count": null,
   "metadata": {
    "colab": {
     "base_uri": "https://localhost:8080/",
     "height": 159
    },
    "id": "aTVZf_1gKTvg",
    "outputId": "d52bbeb5-e647-438e-9e4e-5385401c6033"
   },
   "outputs": [],
   "source": [
    "import pickle"
   ]
  },
  {
   "cell_type": "code",
   "execution_count": null,
   "metadata": {
    "colab": {
     "base_uri": "https://localhost:8080/",
     "height": 17
    },
    "id": "sEaGW1BRK7Tn",
    "outputId": "af112c7f-6804-45dc-8234-9e7c8e57db7f"
   },
   "outputs": [],
   "source": [
    "with open(\"yeild_model.pkl\",\"wb\") as fil :\n",
    "    pickle.dump(best_model,fil)"
   ]
  },
  {
   "cell_type": "code",
   "execution_count": null,
   "metadata": {
    "id": "g3NUvusyihb4"
   },
   "outputs": [],
   "source": [
    "with open(\"yeild_model.pkl\",\"rb\") as fil :\n",
    "    r=pickle.load(fil)"
   ]
  },
  {
   "cell_type": "code",
   "execution_count": null,
   "metadata": {
    "id": "3V_G0e0visaO"
   },
   "outputs": [],
   "source": [
    "X_test"
   ]
  },
  {
   "cell_type": "code",
   "execution_count": null,
   "metadata": {
    "id": "BAr9Wsy9iWFa"
   },
   "outputs": [],
   "source": [
    "r.predict([[85,4,40719,637,17.21]])[0]"
   ]
  },
  {
   "cell_type": "code",
   "execution_count": 24,
   "metadata": {
    "id": "TOULN6aHhTJm"
   },
   "outputs": [
    {
     "data": {
      "text/plain": [
       "['Albania',\n",
       " 'Algeria',\n",
       " 'Angola',\n",
       " 'Argentina',\n",
       " 'Armenia',\n",
       " 'Australia',\n",
       " 'Austria',\n",
       " 'Azerbaijan',\n",
       " 'Bahamas',\n",
       " 'Bahrain',\n",
       " 'Bangladesh',\n",
       " 'Belarus',\n",
       " 'Belgium',\n",
       " 'Botswana',\n",
       " 'Brazil',\n",
       " 'Bulgaria',\n",
       " 'Burkina Faso',\n",
       " 'Burundi',\n",
       " 'Cameroon',\n",
       " 'Canada',\n",
       " 'Central African Republic',\n",
       " 'Chile',\n",
       " 'Colombia',\n",
       " 'Croatia',\n",
       " 'Denmark',\n",
       " 'Dominican Republic',\n",
       " 'Ecuador',\n",
       " 'Egypt',\n",
       " 'El Salvador',\n",
       " 'Eritrea',\n",
       " 'Estonia',\n",
       " 'Finland',\n",
       " 'France',\n",
       " 'Germany',\n",
       " 'Ghana',\n",
       " 'Greece',\n",
       " 'Guatemala',\n",
       " 'Guinea',\n",
       " 'Guyana',\n",
       " 'Haiti',\n",
       " 'Honduras',\n",
       " 'Hungary',\n",
       " 'India',\n",
       " 'Indonesia',\n",
       " 'Iraq',\n",
       " 'Ireland',\n",
       " 'Italy',\n",
       " 'Jamaica',\n",
       " 'Japan',\n",
       " 'Kazakhstan',\n",
       " 'Kenya',\n",
       " 'Latvia',\n",
       " 'Lebanon',\n",
       " 'Lesotho',\n",
       " 'Libya',\n",
       " 'Lithuania',\n",
       " 'Madagascar',\n",
       " 'Malawi',\n",
       " 'Malaysia',\n",
       " 'Mali',\n",
       " 'Mauritania',\n",
       " 'Mauritius',\n",
       " 'Mexico',\n",
       " 'Montenegro',\n",
       " 'Morocco',\n",
       " 'Mozambique',\n",
       " 'Namibia',\n",
       " 'Nepal',\n",
       " 'Netherlands',\n",
       " 'New Zealand',\n",
       " 'Nicaragua',\n",
       " 'Niger',\n",
       " 'Norway',\n",
       " 'Pakistan',\n",
       " 'Papua New Guinea',\n",
       " 'Peru',\n",
       " 'Poland',\n",
       " 'Portugal',\n",
       " 'Qatar',\n",
       " 'Romania',\n",
       " 'Rwanda',\n",
       " 'Saudi Arabia',\n",
       " 'Senegal',\n",
       " 'Slovenia',\n",
       " 'South Africa',\n",
       " 'Spain',\n",
       " 'Sri Lanka',\n",
       " 'Sudan',\n",
       " 'Suriname',\n",
       " 'Sweden',\n",
       " 'Switzerland',\n",
       " 'Tajikistan',\n",
       " 'Thailand',\n",
       " 'Tunisia',\n",
       " 'Turkey',\n",
       " 'Uganda',\n",
       " 'Ukraine',\n",
       " 'United Kingdom',\n",
       " 'Uruguay',\n",
       " 'Zambia',\n",
       " 'Zimbabwe']"
      ]
     },
     "execution_count": 24,
     "metadata": {},
     "output_type": "execute_result"
    }
   ],
   "source": [
    "list(df[\"Area\"].unique())"
   ]
  },
  {
   "cell_type": "code",
   "execution_count": 26,
   "metadata": {
    "id": "ZvsZIrFrhVmS"
   },
   "outputs": [
    {
     "data": {
      "text/plain": [
       "['Maize',\n",
       " 'Potatoes',\n",
       " 'Rice, paddy',\n",
       " 'Sorghum',\n",
       " 'Soybeans',\n",
       " 'Wheat',\n",
       " 'Cassava',\n",
       " 'Sweet potatoes',\n",
       " 'Plantains and others',\n",
       " 'Yams']"
      ]
     },
     "execution_count": 26,
     "metadata": {},
     "output_type": "execute_result"
    }
   ],
   "source": [
    "list(df[\"Item\"].unique())"
   ]
  },
  {
   "cell_type": "code",
   "execution_count": 25,
   "metadata": {
    "id": "KD5V0NCvLBET"
   },
   "outputs": [
    {
     "data": {
      "text/html": [
       "<div>\n",
       "<style scoped>\n",
       "    .dataframe tbody tr th:only-of-type {\n",
       "        vertical-align: middle;\n",
       "    }\n",
       "\n",
       "    .dataframe tbody tr th {\n",
       "        vertical-align: top;\n",
       "    }\n",
       "\n",
       "    .dataframe thead th {\n",
       "        text-align: right;\n",
       "    }\n",
       "</style>\n",
       "<table border=\"1\" class=\"dataframe\">\n",
       "  <thead>\n",
       "    <tr style=\"text-align: right;\">\n",
       "      <th></th>\n",
       "      <th>Area</th>\n",
       "      <th>Item</th>\n",
       "      <th>Year</th>\n",
       "      <th>hg/ha_yield</th>\n",
       "      <th>pesticides_tonnes</th>\n",
       "      <th>average_rain_fall_mm_per_year</th>\n",
       "      <th>avg_temp</th>\n",
       "    </tr>\n",
       "  </thead>\n",
       "  <tbody>\n",
       "    <tr>\n",
       "      <th>0</th>\n",
       "      <td>Albania</td>\n",
       "      <td>Maize</td>\n",
       "      <td>1990</td>\n",
       "      <td>36613</td>\n",
       "      <td>121.00</td>\n",
       "      <td>1485.0</td>\n",
       "      <td>16.37</td>\n",
       "    </tr>\n",
       "    <tr>\n",
       "      <th>1</th>\n",
       "      <td>Albania</td>\n",
       "      <td>Potatoes</td>\n",
       "      <td>1990</td>\n",
       "      <td>66667</td>\n",
       "      <td>121.00</td>\n",
       "      <td>1485.0</td>\n",
       "      <td>16.37</td>\n",
       "    </tr>\n",
       "    <tr>\n",
       "      <th>2</th>\n",
       "      <td>Albania</td>\n",
       "      <td>Rice, paddy</td>\n",
       "      <td>1990</td>\n",
       "      <td>23333</td>\n",
       "      <td>121.00</td>\n",
       "      <td>1485.0</td>\n",
       "      <td>16.37</td>\n",
       "    </tr>\n",
       "    <tr>\n",
       "      <th>3</th>\n",
       "      <td>Albania</td>\n",
       "      <td>Sorghum</td>\n",
       "      <td>1990</td>\n",
       "      <td>12500</td>\n",
       "      <td>121.00</td>\n",
       "      <td>1485.0</td>\n",
       "      <td>16.37</td>\n",
       "    </tr>\n",
       "    <tr>\n",
       "      <th>4</th>\n",
       "      <td>Albania</td>\n",
       "      <td>Soybeans</td>\n",
       "      <td>1990</td>\n",
       "      <td>7000</td>\n",
       "      <td>121.00</td>\n",
       "      <td>1485.0</td>\n",
       "      <td>16.37</td>\n",
       "    </tr>\n",
       "    <tr>\n",
       "      <th>...</th>\n",
       "      <td>...</td>\n",
       "      <td>...</td>\n",
       "      <td>...</td>\n",
       "      <td>...</td>\n",
       "      <td>...</td>\n",
       "      <td>...</td>\n",
       "      <td>...</td>\n",
       "    </tr>\n",
       "    <tr>\n",
       "      <th>28243</th>\n",
       "      <td>Zimbabwe</td>\n",
       "      <td>Rice, paddy</td>\n",
       "      <td>2013</td>\n",
       "      <td>22581</td>\n",
       "      <td>2550.07</td>\n",
       "      <td>657.0</td>\n",
       "      <td>19.76</td>\n",
       "    </tr>\n",
       "    <tr>\n",
       "      <th>28244</th>\n",
       "      <td>Zimbabwe</td>\n",
       "      <td>Sorghum</td>\n",
       "      <td>2013</td>\n",
       "      <td>3066</td>\n",
       "      <td>2550.07</td>\n",
       "      <td>657.0</td>\n",
       "      <td>19.76</td>\n",
       "    </tr>\n",
       "    <tr>\n",
       "      <th>28245</th>\n",
       "      <td>Zimbabwe</td>\n",
       "      <td>Soybeans</td>\n",
       "      <td>2013</td>\n",
       "      <td>13142</td>\n",
       "      <td>2550.07</td>\n",
       "      <td>657.0</td>\n",
       "      <td>19.76</td>\n",
       "    </tr>\n",
       "    <tr>\n",
       "      <th>28246</th>\n",
       "      <td>Zimbabwe</td>\n",
       "      <td>Sweet potatoes</td>\n",
       "      <td>2013</td>\n",
       "      <td>22222</td>\n",
       "      <td>2550.07</td>\n",
       "      <td>657.0</td>\n",
       "      <td>19.76</td>\n",
       "    </tr>\n",
       "    <tr>\n",
       "      <th>28247</th>\n",
       "      <td>Zimbabwe</td>\n",
       "      <td>Wheat</td>\n",
       "      <td>2013</td>\n",
       "      <td>22888</td>\n",
       "      <td>2550.07</td>\n",
       "      <td>657.0</td>\n",
       "      <td>19.76</td>\n",
       "    </tr>\n",
       "  </tbody>\n",
       "</table>\n",
       "<p>28242 rows × 7 columns</p>\n",
       "</div>"
      ],
      "text/plain": [
       "           Area            Item  Year  hg/ha_yield  pesticides_tonnes  \\\n",
       "0       Albania           Maize  1990        36613             121.00   \n",
       "1       Albania        Potatoes  1990        66667             121.00   \n",
       "2       Albania     Rice, paddy  1990        23333             121.00   \n",
       "3       Albania         Sorghum  1990        12500             121.00   \n",
       "4       Albania        Soybeans  1990         7000             121.00   \n",
       "...         ...             ...   ...          ...                ...   \n",
       "28243  Zimbabwe     Rice, paddy  2013        22581            2550.07   \n",
       "28244  Zimbabwe         Sorghum  2013         3066            2550.07   \n",
       "28245  Zimbabwe        Soybeans  2013        13142            2550.07   \n",
       "28246  Zimbabwe  Sweet potatoes  2013        22222            2550.07   \n",
       "28247  Zimbabwe           Wheat  2013        22888            2550.07   \n",
       "\n",
       "       average_rain_fall_mm_per_year  avg_temp  \n",
       "0                             1485.0     16.37  \n",
       "1                             1485.0     16.37  \n",
       "2                             1485.0     16.37  \n",
       "3                             1485.0     16.37  \n",
       "4                             1485.0     16.37  \n",
       "...                              ...       ...  \n",
       "28243                          657.0     19.76  \n",
       "28244                          657.0     19.76  \n",
       "28245                          657.0     19.76  \n",
       "28246                          657.0     19.76  \n",
       "28247                          657.0     19.76  \n",
       "\n",
       "[28242 rows x 7 columns]"
      ]
     },
     "execution_count": 25,
     "metadata": {},
     "output_type": "execute_result"
    }
   ],
   "source": [
    "df"
   ]
  },
  {
   "cell_type": "code",
   "execution_count": null,
   "metadata": {},
   "outputs": [],
   "source": []
  }
 ],
 "metadata": {
  "colab": {
   "provenance": []
  },
  "kernelspec": {
   "display_name": "Python 3 (ipykernel)",
   "language": "python",
   "name": "python3"
  },
  "language_info": {
   "codemirror_mode": {
    "name": "ipython",
    "version": 3
   },
   "file_extension": ".py",
   "mimetype": "text/x-python",
   "name": "python",
   "nbconvert_exporter": "python",
   "pygments_lexer": "ipython3",
   "version": "3.11.5"
  }
 },
 "nbformat": 4,
 "nbformat_minor": 4
}
